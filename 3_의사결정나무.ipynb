{
  "nbformat": 4,
  "nbformat_minor": 0,
  "metadata": {
    "colab": {
      "provenance": [],
      "authorship_tag": "ABX9TyM/9qaXHNVLnYvNWXl2cS1W",
      "include_colab_link": true
    },
    "kernelspec": {
      "name": "python3",
      "display_name": "Python 3"
    },
    "language_info": {
      "name": "python"
    }
  },
  "cells": [
    {
      "cell_type": "markdown",
      "metadata": {
        "id": "view-in-github",
        "colab_type": "text"
      },
      "source": [
        "<a href=\"https://colab.research.google.com/github/Highflying07/Data-Science/blob/main/3_%EC%9D%98%EC%82%AC%EA%B2%B0%EC%A0%95%EB%82%98%EB%AC%B4.ipynb\" target=\"_parent\"><img src=\"https://colab.research.google.com/assets/colab-badge.svg\" alt=\"Open In Colab\"/></a>"
      ]
    },
    {
      "cell_type": "code",
      "execution_count": null,
      "metadata": {
        "id": "mQj81q7hCFXc"
      },
      "outputs": [],
      "source": []
    },
    {
      "cell_type": "markdown",
      "source": [
        "**3. 의사결정나무**\n",
        "- 지도 학습 알고리즘(분류, 회귀)\n",
        "- 직관적인 알고리즘 (이해 쉬움)\n",
        "- 과대적합되기 쉬운 알고리믖 (트리 깊이 제한 필요)"
      ],
      "metadata": {
        "id": "GNbhZXuACQex"
      }
    },
    {
      "cell_type": "code",
      "source": [
        "# 라이브러리 및 데이터 불러오기\n",
        "#필요한 라이브러리를 가져오고, sklearn 라이브러리에 내장된 데이터를 불러옵니다.\n"
      ],
      "metadata": {
        "id": "6DVsHxsECfeH"
      },
      "execution_count": 1,
      "outputs": []
    },
    {
      "cell_type": "code",
      "source": [
        "import pandas as pd\n",
        "from sklearn.model_selection import train_test_split"
      ],
      "metadata": {
        "id": "3diZlvXBCpS4"
      },
      "execution_count": 2,
      "outputs": []
    },
    {
      "cell_type": "code",
      "source": [
        "from sklearn.metrics import accuracy_score"
      ],
      "metadata": {
        "id": "5Lsl8K0sCyPO"
      },
      "execution_count": 3,
      "outputs": []
    },
    {
      "cell_type": "code",
      "source": [
        "from sklearn.datasets import load_breast_cancer"
      ],
      "metadata": {
        "id": "T0fLv86FC2Ff"
      },
      "execution_count": 4,
      "outputs": []
    },
    {
      "cell_type": "code",
      "source": [
        "def make_dataset():\n",
        "  cancer = load_breast_cancer()\n",
        "  df = pd.DataFrame(cancer.data, columns=cancer.feature_names)\n",
        "  df['target'] = cancer.target\n",
        "  x_train, x_test, y_train, y_test = train_test_split(\n",
        "    df.drop('target', axis=1), df['target'], test_size=0.5, random_state=1004)\n",
        "  return x_train, x_test, y_train, y_test\n",
        "\n",
        "\n",
        ""
      ],
      "metadata": {
        "id": "EUiUtZcGC65Y"
      },
      "execution_count": 12,
      "outputs": []
    },
    {
      "cell_type": "code",
      "source": [
        "x_train, x_test, y_train, y_test = make_dataset()"
      ],
      "metadata": {
        "id": "rogchikhDR4_"
      },
      "execution_count": 13,
      "outputs": []
    },
    {
      "cell_type": "code",
      "source": [
        "x_train.shape, x_test.shape, y_train.shape, y_test.shape"
      ],
      "metadata": {
        "colab": {
          "base_uri": "https://localhost:8080/"
        },
        "id": "I-5UE79sErZ_",
        "outputId": "97b0a54b-5a29-4af5-c2e4-4091955c68ca"
      },
      "execution_count": 14,
      "outputs": [
        {
          "output_type": "execute_result",
          "data": {
            "text/plain": [
              "((284, 30), (285, 30), (284,), (285,))"
            ]
          },
          "metadata": {},
          "execution_count": 14
        }
      ]
    },
    {
      "cell_type": "code",
      "source": [
        "#타겟 확인\n",
        "\n",
        "y_train.value_counts()"
      ],
      "metadata": {
        "colab": {
          "base_uri": "https://localhost:8080/",
          "height": 178
        },
        "id": "1jfN-UMBExe_",
        "outputId": "3cc568d0-8b5d-461b-f9ba-d80ecb052325"
      },
      "execution_count": 15,
      "outputs": [
        {
          "output_type": "execute_result",
          "data": {
            "text/plain": [
              "target\n",
              "1    190\n",
              "0     94\n",
              "Name: count, dtype: int64"
            ],
            "text/html": [
              "<div>\n",
              "<style scoped>\n",
              "    .dataframe tbody tr th:only-of-type {\n",
              "        vertical-align: middle;\n",
              "    }\n",
              "\n",
              "    .dataframe tbody tr th {\n",
              "        vertical-align: top;\n",
              "    }\n",
              "\n",
              "    .dataframe thead th {\n",
              "        text-align: right;\n",
              "    }\n",
              "</style>\n",
              "<table border=\"1\" class=\"dataframe\">\n",
              "  <thead>\n",
              "    <tr style=\"text-align: right;\">\n",
              "      <th></th>\n",
              "      <th>count</th>\n",
              "    </tr>\n",
              "    <tr>\n",
              "      <th>target</th>\n",
              "      <th></th>\n",
              "    </tr>\n",
              "  </thead>\n",
              "  <tbody>\n",
              "    <tr>\n",
              "      <th>1</th>\n",
              "      <td>190</td>\n",
              "    </tr>\n",
              "    <tr>\n",
              "      <th>0</th>\n",
              "      <td>94</td>\n",
              "    </tr>\n",
              "  </tbody>\n",
              "</table>\n",
              "</div><br><label><b>dtype:</b> int64</label>"
            ]
          },
          "metadata": {},
          "execution_count": 15
        }
      ]
    },
    {
      "cell_type": "code",
      "source": [
        "y_test.value_counts()"
      ],
      "metadata": {
        "colab": {
          "base_uri": "https://localhost:8080/",
          "height": 178
        },
        "id": "DUr824WhE972",
        "outputId": "d2911562-290e-4f36-9522-6d71ef9fe646"
      },
      "execution_count": 16,
      "outputs": [
        {
          "output_type": "execute_result",
          "data": {
            "text/plain": [
              "target\n",
              "1    167\n",
              "0    118\n",
              "Name: count, dtype: int64"
            ],
            "text/html": [
              "<div>\n",
              "<style scoped>\n",
              "    .dataframe tbody tr th:only-of-type {\n",
              "        vertical-align: middle;\n",
              "    }\n",
              "\n",
              "    .dataframe tbody tr th {\n",
              "        vertical-align: top;\n",
              "    }\n",
              "\n",
              "    .dataframe thead th {\n",
              "        text-align: right;\n",
              "    }\n",
              "</style>\n",
              "<table border=\"1\" class=\"dataframe\">\n",
              "  <thead>\n",
              "    <tr style=\"text-align: right;\">\n",
              "      <th></th>\n",
              "      <th>count</th>\n",
              "    </tr>\n",
              "    <tr>\n",
              "      <th>target</th>\n",
              "      <th></th>\n",
              "    </tr>\n",
              "  </thead>\n",
              "  <tbody>\n",
              "    <tr>\n",
              "      <th>1</th>\n",
              "      <td>167</td>\n",
              "    </tr>\n",
              "    <tr>\n",
              "      <th>0</th>\n",
              "      <td>118</td>\n",
              "    </tr>\n",
              "  </tbody>\n",
              "</table>\n",
              "</div><br><label><b>dtype:</b> int64</label>"
            ]
          },
          "metadata": {},
          "execution_count": 16
        }
      ]
    },
    {
      "cell_type": "code",
      "source": [
        "x_train.value_counts()"
      ],
      "metadata": {
        "colab": {
          "base_uri": "https://localhost:8080/",
          "height": 544
        },
        "id": "WzwRxFQOJ6Iv",
        "outputId": "7180e758-e229-40ea-e1d0-af66af745899"
      },
      "execution_count": 17,
      "outputs": [
        {
          "output_type": "execute_result",
          "data": {
            "text/plain": [
              "mean radius  mean texture  mean perimeter  mean area  mean smoothness  mean compactness  mean concavity  mean concave points  mean symmetry  mean fractal dimension  radius error  texture error  perimeter error  area error  smoothness error  compactness error  concavity error  concave points error  symmetry error  fractal dimension error  worst radius  worst texture  worst perimeter  worst area  worst smoothness  worst compactness  worst concavity  worst concave points  worst symmetry  worst fractal dimension\n",
              "28.110       18.47         188.50          2499.0     0.11420          0.15160           0.32010         0.159500             0.1648         0.05525                 2.8730        1.4760         21.980           525.600     0.013450          0.02772            0.06389          0.014070              0.04783         0.004476                 28.110        18.47          188.50           2499.0      0.11420           0.15160            0.32010          0.15950               0.1648          0.05525                    1\n",
              "7.691        25.44         48.34           170.4      0.08668          0.11990           0.09252         0.013640             0.2037         0.07751                 0.2196        1.4790         1.445            11.730      0.015470          0.06457            0.09252          0.013640              0.02105         0.007551                 8.678         31.89          54.49            223.6       0.15960           0.30640            0.33930          0.05000               0.2790          0.10660                    1\n",
              "7.760        24.54         47.92           181.0      0.05263          0.04362           0.00000         0.000000             0.1587         0.05884                 0.3857        1.4280         2.548            19.150      0.007189          0.00466            0.00000          0.000000              0.02676         0.002783                 9.456         30.37          59.16            268.6       0.08996           0.06444            0.00000          0.00000               0.2871          0.07039                    1\n",
              "8.196        16.84         51.71           201.9      0.08600          0.05943           0.01588         0.005917             0.1769         0.06503                 0.1563        0.9567         1.094            8.205       0.008968          0.01646            0.01588          0.005917              0.02574         0.002582                 8.964         21.96          57.26            242.2       0.12970           0.13570            0.06880          0.02564               0.3105          0.07409                    1\n",
              "8.219        20.70         53.27           203.9      0.09405          0.13050           0.13210         0.021680             0.2222         0.08261                 0.1935        1.9620         1.243            10.210      0.012430          0.05416            0.07753          0.010220              0.02309         0.011780                 9.092         29.72          58.08            249.8       0.16300           0.43100            0.53810          0.07879               0.3322          0.14860                    1\n",
              "                                                                                                                                                                                                                                                                                                                                                                                                                                                                                                                                    ..\n",
              "9.333        21.94         59.01           264.0      0.09240          0.05605           0.03996         0.012820             0.1692         0.06576                 0.3013        1.8790         2.121            17.860      0.010940          0.01834            0.03996          0.012820              0.03759         0.004623                 9.845         25.05          62.86            295.8       0.11030           0.08298            0.07993          0.02564               0.2435          0.07393                    1\n",
              "9.268        12.87         61.49           248.7      0.16340          0.22390           0.09730         0.052520             0.2378         0.09502                 0.4076        1.0930         3.014            20.040      0.009783          0.04542            0.03483          0.021880              0.02542         0.010450                 10.280        16.38          69.05            300.2       0.19020           0.34410            0.20990          0.10250               0.3038          0.12520                    1\n",
              "9.173        13.86         59.20           260.9      0.07721          0.08751           0.05988         0.021800             0.2341         0.06963                 0.4098        2.2650         2.608            23.520      0.008738          0.03938            0.04312          0.015600              0.04192         0.005822                 10.010        19.23          65.59            310.1       0.09836           0.16780            0.13970          0.05087               0.3282          0.08490                    1\n",
              "9.042        18.90         60.07           244.5      0.09968          0.19720           0.19750         0.049080             0.2330         0.08743                 0.4653        1.9110         3.769            24.200      0.009845          0.06590            0.10270          0.025270              0.03491         0.007877                 10.060        23.40          68.62            297.1       0.12210           0.37480            0.46090          0.11450               0.3135          0.10550                    1\n",
              "9.029        17.33         58.79           250.5      0.10660          0.14130           0.31300         0.043750             0.2111         0.08046                 0.3274        1.1940         1.885            17.670      0.009549          0.08606            0.30380          0.033220              0.04197         0.009559                 10.310        22.65          65.50            324.7       0.14820           0.43650            1.25200          0.17500               0.4228          0.11750                    1\n",
              "Name: count, Length: 284, dtype: int64"
            ],
            "text/html": [
              "<div>\n",
              "<style scoped>\n",
              "    .dataframe tbody tr th:only-of-type {\n",
              "        vertical-align: middle;\n",
              "    }\n",
              "\n",
              "    .dataframe tbody tr th {\n",
              "        vertical-align: top;\n",
              "    }\n",
              "\n",
              "    .dataframe thead th {\n",
              "        text-align: right;\n",
              "    }\n",
              "</style>\n",
              "<table border=\"1\" class=\"dataframe\">\n",
              "  <thead>\n",
              "    <tr style=\"text-align: right;\">\n",
              "      <th></th>\n",
              "      <th></th>\n",
              "      <th></th>\n",
              "      <th></th>\n",
              "      <th></th>\n",
              "      <th></th>\n",
              "      <th></th>\n",
              "      <th></th>\n",
              "      <th></th>\n",
              "      <th></th>\n",
              "      <th></th>\n",
              "      <th></th>\n",
              "      <th></th>\n",
              "      <th></th>\n",
              "      <th></th>\n",
              "      <th></th>\n",
              "      <th></th>\n",
              "      <th></th>\n",
              "      <th></th>\n",
              "      <th></th>\n",
              "      <th></th>\n",
              "      <th></th>\n",
              "      <th></th>\n",
              "      <th></th>\n",
              "      <th></th>\n",
              "      <th></th>\n",
              "      <th></th>\n",
              "      <th></th>\n",
              "      <th></th>\n",
              "      <th></th>\n",
              "      <th>count</th>\n",
              "    </tr>\n",
              "    <tr>\n",
              "      <th>mean radius</th>\n",
              "      <th>mean texture</th>\n",
              "      <th>mean perimeter</th>\n",
              "      <th>mean area</th>\n",
              "      <th>mean smoothness</th>\n",
              "      <th>mean compactness</th>\n",
              "      <th>mean concavity</th>\n",
              "      <th>mean concave points</th>\n",
              "      <th>mean symmetry</th>\n",
              "      <th>mean fractal dimension</th>\n",
              "      <th>radius error</th>\n",
              "      <th>texture error</th>\n",
              "      <th>perimeter error</th>\n",
              "      <th>area error</th>\n",
              "      <th>smoothness error</th>\n",
              "      <th>compactness error</th>\n",
              "      <th>concavity error</th>\n",
              "      <th>concave points error</th>\n",
              "      <th>symmetry error</th>\n",
              "      <th>fractal dimension error</th>\n",
              "      <th>worst radius</th>\n",
              "      <th>worst texture</th>\n",
              "      <th>worst perimeter</th>\n",
              "      <th>worst area</th>\n",
              "      <th>worst smoothness</th>\n",
              "      <th>worst compactness</th>\n",
              "      <th>worst concavity</th>\n",
              "      <th>worst concave points</th>\n",
              "      <th>worst symmetry</th>\n",
              "      <th>worst fractal dimension</th>\n",
              "      <th></th>\n",
              "    </tr>\n",
              "  </thead>\n",
              "  <tbody>\n",
              "    <tr>\n",
              "      <th>28.110</th>\n",
              "      <th>18.47</th>\n",
              "      <th>188.50</th>\n",
              "      <th>2499.0</th>\n",
              "      <th>0.11420</th>\n",
              "      <th>0.15160</th>\n",
              "      <th>0.32010</th>\n",
              "      <th>0.159500</th>\n",
              "      <th>0.1648</th>\n",
              "      <th>0.05525</th>\n",
              "      <th>2.8730</th>\n",
              "      <th>1.4760</th>\n",
              "      <th>21.980</th>\n",
              "      <th>525.600</th>\n",
              "      <th>0.013450</th>\n",
              "      <th>0.02772</th>\n",
              "      <th>0.06389</th>\n",
              "      <th>0.014070</th>\n",
              "      <th>0.04783</th>\n",
              "      <th>0.004476</th>\n",
              "      <th>28.110</th>\n",
              "      <th>18.47</th>\n",
              "      <th>188.50</th>\n",
              "      <th>2499.0</th>\n",
              "      <th>0.11420</th>\n",
              "      <th>0.15160</th>\n",
              "      <th>0.32010</th>\n",
              "      <th>0.15950</th>\n",
              "      <th>0.1648</th>\n",
              "      <th>0.05525</th>\n",
              "      <td>1</td>\n",
              "    </tr>\n",
              "    <tr>\n",
              "      <th>7.691</th>\n",
              "      <th>25.44</th>\n",
              "      <th>48.34</th>\n",
              "      <th>170.4</th>\n",
              "      <th>0.08668</th>\n",
              "      <th>0.11990</th>\n",
              "      <th>0.09252</th>\n",
              "      <th>0.013640</th>\n",
              "      <th>0.2037</th>\n",
              "      <th>0.07751</th>\n",
              "      <th>0.2196</th>\n",
              "      <th>1.4790</th>\n",
              "      <th>1.445</th>\n",
              "      <th>11.730</th>\n",
              "      <th>0.015470</th>\n",
              "      <th>0.06457</th>\n",
              "      <th>0.09252</th>\n",
              "      <th>0.013640</th>\n",
              "      <th>0.02105</th>\n",
              "      <th>0.007551</th>\n",
              "      <th>8.678</th>\n",
              "      <th>31.89</th>\n",
              "      <th>54.49</th>\n",
              "      <th>223.6</th>\n",
              "      <th>0.15960</th>\n",
              "      <th>0.30640</th>\n",
              "      <th>0.33930</th>\n",
              "      <th>0.05000</th>\n",
              "      <th>0.2790</th>\n",
              "      <th>0.10660</th>\n",
              "      <td>1</td>\n",
              "    </tr>\n",
              "    <tr>\n",
              "      <th>7.760</th>\n",
              "      <th>24.54</th>\n",
              "      <th>47.92</th>\n",
              "      <th>181.0</th>\n",
              "      <th>0.05263</th>\n",
              "      <th>0.04362</th>\n",
              "      <th>0.00000</th>\n",
              "      <th>0.000000</th>\n",
              "      <th>0.1587</th>\n",
              "      <th>0.05884</th>\n",
              "      <th>0.3857</th>\n",
              "      <th>1.4280</th>\n",
              "      <th>2.548</th>\n",
              "      <th>19.150</th>\n",
              "      <th>0.007189</th>\n",
              "      <th>0.00466</th>\n",
              "      <th>0.00000</th>\n",
              "      <th>0.000000</th>\n",
              "      <th>0.02676</th>\n",
              "      <th>0.002783</th>\n",
              "      <th>9.456</th>\n",
              "      <th>30.37</th>\n",
              "      <th>59.16</th>\n",
              "      <th>268.6</th>\n",
              "      <th>0.08996</th>\n",
              "      <th>0.06444</th>\n",
              "      <th>0.00000</th>\n",
              "      <th>0.00000</th>\n",
              "      <th>0.2871</th>\n",
              "      <th>0.07039</th>\n",
              "      <td>1</td>\n",
              "    </tr>\n",
              "    <tr>\n",
              "      <th>8.196</th>\n",
              "      <th>16.84</th>\n",
              "      <th>51.71</th>\n",
              "      <th>201.9</th>\n",
              "      <th>0.08600</th>\n",
              "      <th>0.05943</th>\n",
              "      <th>0.01588</th>\n",
              "      <th>0.005917</th>\n",
              "      <th>0.1769</th>\n",
              "      <th>0.06503</th>\n",
              "      <th>0.1563</th>\n",
              "      <th>0.9567</th>\n",
              "      <th>1.094</th>\n",
              "      <th>8.205</th>\n",
              "      <th>0.008968</th>\n",
              "      <th>0.01646</th>\n",
              "      <th>0.01588</th>\n",
              "      <th>0.005917</th>\n",
              "      <th>0.02574</th>\n",
              "      <th>0.002582</th>\n",
              "      <th>8.964</th>\n",
              "      <th>21.96</th>\n",
              "      <th>57.26</th>\n",
              "      <th>242.2</th>\n",
              "      <th>0.12970</th>\n",
              "      <th>0.13570</th>\n",
              "      <th>0.06880</th>\n",
              "      <th>0.02564</th>\n",
              "      <th>0.3105</th>\n",
              "      <th>0.07409</th>\n",
              "      <td>1</td>\n",
              "    </tr>\n",
              "    <tr>\n",
              "      <th>8.219</th>\n",
              "      <th>20.70</th>\n",
              "      <th>53.27</th>\n",
              "      <th>203.9</th>\n",
              "      <th>0.09405</th>\n",
              "      <th>0.13050</th>\n",
              "      <th>0.13210</th>\n",
              "      <th>0.021680</th>\n",
              "      <th>0.2222</th>\n",
              "      <th>0.08261</th>\n",
              "      <th>0.1935</th>\n",
              "      <th>1.9620</th>\n",
              "      <th>1.243</th>\n",
              "      <th>10.210</th>\n",
              "      <th>0.012430</th>\n",
              "      <th>0.05416</th>\n",
              "      <th>0.07753</th>\n",
              "      <th>0.010220</th>\n",
              "      <th>0.02309</th>\n",
              "      <th>0.011780</th>\n",
              "      <th>9.092</th>\n",
              "      <th>29.72</th>\n",
              "      <th>58.08</th>\n",
              "      <th>249.8</th>\n",
              "      <th>0.16300</th>\n",
              "      <th>0.43100</th>\n",
              "      <th>0.53810</th>\n",
              "      <th>0.07879</th>\n",
              "      <th>0.3322</th>\n",
              "      <th>0.14860</th>\n",
              "      <td>1</td>\n",
              "    </tr>\n",
              "    <tr>\n",
              "      <th>...</th>\n",
              "      <th>...</th>\n",
              "      <th>...</th>\n",
              "      <th>...</th>\n",
              "      <th>...</th>\n",
              "      <th>...</th>\n",
              "      <th>...</th>\n",
              "      <th>...</th>\n",
              "      <th>...</th>\n",
              "      <th>...</th>\n",
              "      <th>...</th>\n",
              "      <th>...</th>\n",
              "      <th>...</th>\n",
              "      <th>...</th>\n",
              "      <th>...</th>\n",
              "      <th>...</th>\n",
              "      <th>...</th>\n",
              "      <th>...</th>\n",
              "      <th>...</th>\n",
              "      <th>...</th>\n",
              "      <th>...</th>\n",
              "      <th>...</th>\n",
              "      <th>...</th>\n",
              "      <th>...</th>\n",
              "      <th>...</th>\n",
              "      <th>...</th>\n",
              "      <th>...</th>\n",
              "      <th>...</th>\n",
              "      <th>...</th>\n",
              "      <th>...</th>\n",
              "      <td>...</td>\n",
              "    </tr>\n",
              "    <tr>\n",
              "      <th>9.333</th>\n",
              "      <th>21.94</th>\n",
              "      <th>59.01</th>\n",
              "      <th>264.0</th>\n",
              "      <th>0.09240</th>\n",
              "      <th>0.05605</th>\n",
              "      <th>0.03996</th>\n",
              "      <th>0.012820</th>\n",
              "      <th>0.1692</th>\n",
              "      <th>0.06576</th>\n",
              "      <th>0.3013</th>\n",
              "      <th>1.8790</th>\n",
              "      <th>2.121</th>\n",
              "      <th>17.860</th>\n",
              "      <th>0.010940</th>\n",
              "      <th>0.01834</th>\n",
              "      <th>0.03996</th>\n",
              "      <th>0.012820</th>\n",
              "      <th>0.03759</th>\n",
              "      <th>0.004623</th>\n",
              "      <th>9.845</th>\n",
              "      <th>25.05</th>\n",
              "      <th>62.86</th>\n",
              "      <th>295.8</th>\n",
              "      <th>0.11030</th>\n",
              "      <th>0.08298</th>\n",
              "      <th>0.07993</th>\n",
              "      <th>0.02564</th>\n",
              "      <th>0.2435</th>\n",
              "      <th>0.07393</th>\n",
              "      <td>1</td>\n",
              "    </tr>\n",
              "    <tr>\n",
              "      <th>9.268</th>\n",
              "      <th>12.87</th>\n",
              "      <th>61.49</th>\n",
              "      <th>248.7</th>\n",
              "      <th>0.16340</th>\n",
              "      <th>0.22390</th>\n",
              "      <th>0.09730</th>\n",
              "      <th>0.052520</th>\n",
              "      <th>0.2378</th>\n",
              "      <th>0.09502</th>\n",
              "      <th>0.4076</th>\n",
              "      <th>1.0930</th>\n",
              "      <th>3.014</th>\n",
              "      <th>20.040</th>\n",
              "      <th>0.009783</th>\n",
              "      <th>0.04542</th>\n",
              "      <th>0.03483</th>\n",
              "      <th>0.021880</th>\n",
              "      <th>0.02542</th>\n",
              "      <th>0.010450</th>\n",
              "      <th>10.280</th>\n",
              "      <th>16.38</th>\n",
              "      <th>69.05</th>\n",
              "      <th>300.2</th>\n",
              "      <th>0.19020</th>\n",
              "      <th>0.34410</th>\n",
              "      <th>0.20990</th>\n",
              "      <th>0.10250</th>\n",
              "      <th>0.3038</th>\n",
              "      <th>0.12520</th>\n",
              "      <td>1</td>\n",
              "    </tr>\n",
              "    <tr>\n",
              "      <th>9.173</th>\n",
              "      <th>13.86</th>\n",
              "      <th>59.20</th>\n",
              "      <th>260.9</th>\n",
              "      <th>0.07721</th>\n",
              "      <th>0.08751</th>\n",
              "      <th>0.05988</th>\n",
              "      <th>0.021800</th>\n",
              "      <th>0.2341</th>\n",
              "      <th>0.06963</th>\n",
              "      <th>0.4098</th>\n",
              "      <th>2.2650</th>\n",
              "      <th>2.608</th>\n",
              "      <th>23.520</th>\n",
              "      <th>0.008738</th>\n",
              "      <th>0.03938</th>\n",
              "      <th>0.04312</th>\n",
              "      <th>0.015600</th>\n",
              "      <th>0.04192</th>\n",
              "      <th>0.005822</th>\n",
              "      <th>10.010</th>\n",
              "      <th>19.23</th>\n",
              "      <th>65.59</th>\n",
              "      <th>310.1</th>\n",
              "      <th>0.09836</th>\n",
              "      <th>0.16780</th>\n",
              "      <th>0.13970</th>\n",
              "      <th>0.05087</th>\n",
              "      <th>0.3282</th>\n",
              "      <th>0.08490</th>\n",
              "      <td>1</td>\n",
              "    </tr>\n",
              "    <tr>\n",
              "      <th>9.042</th>\n",
              "      <th>18.90</th>\n",
              "      <th>60.07</th>\n",
              "      <th>244.5</th>\n",
              "      <th>0.09968</th>\n",
              "      <th>0.19720</th>\n",
              "      <th>0.19750</th>\n",
              "      <th>0.049080</th>\n",
              "      <th>0.2330</th>\n",
              "      <th>0.08743</th>\n",
              "      <th>0.4653</th>\n",
              "      <th>1.9110</th>\n",
              "      <th>3.769</th>\n",
              "      <th>24.200</th>\n",
              "      <th>0.009845</th>\n",
              "      <th>0.06590</th>\n",
              "      <th>0.10270</th>\n",
              "      <th>0.025270</th>\n",
              "      <th>0.03491</th>\n",
              "      <th>0.007877</th>\n",
              "      <th>10.060</th>\n",
              "      <th>23.40</th>\n",
              "      <th>68.62</th>\n",
              "      <th>297.1</th>\n",
              "      <th>0.12210</th>\n",
              "      <th>0.37480</th>\n",
              "      <th>0.46090</th>\n",
              "      <th>0.11450</th>\n",
              "      <th>0.3135</th>\n",
              "      <th>0.10550</th>\n",
              "      <td>1</td>\n",
              "    </tr>\n",
              "    <tr>\n",
              "      <th>9.029</th>\n",
              "      <th>17.33</th>\n",
              "      <th>58.79</th>\n",
              "      <th>250.5</th>\n",
              "      <th>0.10660</th>\n",
              "      <th>0.14130</th>\n",
              "      <th>0.31300</th>\n",
              "      <th>0.043750</th>\n",
              "      <th>0.2111</th>\n",
              "      <th>0.08046</th>\n",
              "      <th>0.3274</th>\n",
              "      <th>1.1940</th>\n",
              "      <th>1.885</th>\n",
              "      <th>17.670</th>\n",
              "      <th>0.009549</th>\n",
              "      <th>0.08606</th>\n",
              "      <th>0.30380</th>\n",
              "      <th>0.033220</th>\n",
              "      <th>0.04197</th>\n",
              "      <th>0.009559</th>\n",
              "      <th>10.310</th>\n",
              "      <th>22.65</th>\n",
              "      <th>65.50</th>\n",
              "      <th>324.7</th>\n",
              "      <th>0.14820</th>\n",
              "      <th>0.43650</th>\n",
              "      <th>1.25200</th>\n",
              "      <th>0.17500</th>\n",
              "      <th>0.4228</th>\n",
              "      <th>0.11750</th>\n",
              "      <td>1</td>\n",
              "    </tr>\n",
              "  </tbody>\n",
              "</table>\n",
              "<p>284 rows × 1 columns</p>\n",
              "</div><br><label><b>dtype:</b> int64</label>"
            ]
          },
          "metadata": {},
          "execution_count": 17
        }
      ]
    },
    {
      "cell_type": "code",
      "source": [],
      "metadata": {
        "id": "UFi018jvJ_Bv"
      },
      "execution_count": null,
      "outputs": []
    },
    {
      "cell_type": "markdown",
      "source": [
        "**2.의사 결정 나무**\n",
        "- 지도 학습(분류)에서 가장 유용하게 사용되고 있는 기법 중 하나입니다.\n",
        "- 트리의 루트(root)에서 시작해서 정보이득이 최대가 되는 특성으로 데이터를 다룹니다.\n",
        "- 정보이득이 최대가 되는 특성을 나누는 기준(불순도를 측정하는 기준)은 '지니'와 '엔트로피'가 사용됩니다.\n",
        "\n",
        "데이터가 한 종류만 있다면 엔트로피/지니 불순도는 0에 가깝고, 서로 다른 데이터의 비율이 비슷하면 1에 가깝습니다.\\\n",
        "정보이득이 최대라는 것은 불순도를 최소화하는 방향입니다.(1-불순도)"
      ],
      "metadata": {
        "id": "WBWs1aMmKIMU"
      }
    },
    {
      "cell_type": "code",
      "source": [
        "#의사결정나무\n",
        "\n",
        "from sklearn.tree import DecisionTreeClassifier\n",
        "model = DecisionTreeClassifier(random_state=0)"
      ],
      "metadata": {
        "id": "SaaEiAYrK4E9"
      },
      "execution_count": 18,
      "outputs": []
    },
    {
      "cell_type": "code",
      "source": [
        "model.fit(x_train, y_train)\n",
        "pred = model.predict(x_test)\n",
        "accuracy_score(y_test, pred)"
      ],
      "metadata": {
        "colab": {
          "base_uri": "https://localhost:8080/"
        },
        "id": "O2orKYJbLK1u",
        "outputId": "54ccaeb8-e556-42d4-acac-499716ceff1d"
      },
      "execution_count": 19,
      "outputs": [
        {
          "output_type": "execute_result",
          "data": {
            "text/plain": [
              "0.9263157894736842"
            ]
          },
          "metadata": {},
          "execution_count": 19
        }
      ]
    },
    {
      "cell_type": "markdown",
      "source": [
        "**3. 의사결정나무 하이퍼파라메터**\n",
        "- criterion 기본값 gini : 불순도 지표(또는 엔트로피 불순도 entropy)\n",
        "- min_samples_split(기본값 2) : 자식 노드를 갖기 위한 최소한의 데이터 수\n",
        "- min_samples_leaf(기본값 1) : 리프 노드가 되기 위한 최소 샘플 수"
      ],
      "metadata": {
        "id": "CqMY3931LwU-"
      }
    },
    {
      "cell_type": "code",
      "source": [
        "#의사결정나무 하이퍼파라미터\n",
        "\n",
        "from sklearn.tree import DecisionTreeClassifier\n",
        "model = DecisionTreeClassifier(\n",
        "    criterion = 'entropy',\n",
        "    max_depth = 7,\n",
        "    min_samples_split =2,\n",
        "    min_samples_leaf = 2,\n",
        "    random_state=0)\n",
        "model.fit(x_train, y_train)\n",
        "pred = model.predict(x_test)\n",
        "accuracy_score(y_test, pred)"
      ],
      "metadata": {
        "colab": {
          "base_uri": "https://localhost:8080/"
        },
        "id": "fMQHoOZYLZzP",
        "outputId": "4e16ef62-1f85-4654-f7f1-92c3be153df4"
      },
      "execution_count": 23,
      "outputs": [
        {
          "output_type": "execute_result",
          "data": {
            "text/plain": [
              "0.9228070175438596"
            ]
          },
          "metadata": {},
          "execution_count": 23
        }
      ]
    },
    {
      "cell_type": "markdown",
      "source": [
        "**랜덤포레스트**\\\n",
        "의사결정나무가 여러개 있는 것을 랜덤포레스트라고 생각하면 된다.\n",
        "\n",
        "**앙상블 방법**\n",
        "- 배깅 (Bootsrarp + Aggregatting) 같은 알고리즘으로 여러 모델을 만들어 분류함 (랜덤포레스트)\n",
        "- 부스팅 : 학습과 예측을 하면서 가중치를 반영 (약한 모델을 축적)\n",
        "\n",
        "1. 랜덤포레스트\n",
        "- 여러개의 의사결정 트리로 구성\n",
        "- 앙상블 방법 중 배깅 방식\n",
        "- 부트스트램 샘플링(데이터셋 중복 허용)\n",
        "- 최종 다수결 투표\n",
        "- 과접합 가능성 낮음\n",
        "\n"
      ],
      "metadata": {
        "id": "vrEUhTSvWO_g"
      }
    },
    {
      "cell_type": "code",
      "source": [
        "#랜덤포레스트\n",
        "from sklearn.ensemble import RandomForestClassifier\n",
        "model = RandomForestClassifier(random_state=0)\n"
      ],
      "metadata": {
        "id": "cmiNBL2VM7jv"
      },
      "execution_count": 24,
      "outputs": []
    },
    {
      "cell_type": "code",
      "source": [
        "model.fit(x_train, y_train)\n",
        "pred = model.predict(x_test)\n",
        "accuracy_score(y_test, pred)"
      ],
      "metadata": {
        "colab": {
          "base_uri": "https://localhost:8080/"
        },
        "id": "aw6CdewZXSrF",
        "outputId": "53ec2947-2f66-4a35-f24e-4ea64c0beef5"
      },
      "execution_count": 28,
      "outputs": [
        {
          "output_type": "execute_result",
          "data": {
            "text/plain": [
              "0.9438596491228071"
            ]
          },
          "metadata": {},
          "execution_count": 28
        }
      ]
    },
    {
      "cell_type": "markdown",
      "source": [
        "**2.랜덤포레스트 하이퍼파라미터**\n",
        "- n_estimators(기본값 100) :트리의 수\n",
        "- criteriion(기본값 gini) : 불순도 지표\n",
        "- max_depth(기본값 None) : 최대 한도 깊이\n",
        "- min_samples_split (기본값 2) : 자식 노드를 갖기 위한 최소한의 데이터 수\n",
        "- min_samples_leaf( 기본값 1) : 리프 노트가 되기 위한 최소 샘플 수"
      ],
      "metadata": {
        "id": "o4BW13keXxQM"
      }
    },
    {
      "cell_type": "code",
      "source": [
        "#랜덤 포레스트 하이퍼파라미터\n",
        "\n",
        "from sklearn.ensemble import RandomForestClassifier\n",
        "model = RandomForestClassifier(\n",
        "    n_estimators=50,\n",
        "    max_depth = 5,\n",
        "    random_state = 0)\n",
        "model.fit(x_train, y_train)\n",
        "pred = model.predict(x_test)\n",
        "accuracy_score(y_test, pred)"
      ],
      "metadata": {
        "colab": {
          "base_uri": "https://localhost:8080/"
        },
        "id": "_P4y23gUXc3l",
        "outputId": "8c39ca48-470c-4254-ae39-d284044b1326"
      },
      "execution_count": 60,
      "outputs": [
        {
          "output_type": "execute_result",
          "data": {
            "text/plain": [
              "0.9578947368421052"
            ]
          },
          "metadata": {},
          "execution_count": 60
        }
      ]
    },
    {
      "cell_type": "code",
      "source": [
        "# 0.9473684210526315     n_estimators=100, max_depth = 5, random_state = 0)\n"
      ],
      "metadata": {
        "id": "Xx05_kc-YyL2"
      },
      "execution_count": 35,
      "outputs": []
    },
    {
      "cell_type": "markdown",
      "source": [
        "**3.XGBoost**\n",
        "\n",
        "- eXtrem Gradient Boosting\n",
        "- 트리 앙상블 중 성능이 좋은 알고리즘\n",
        "- 약한 학습기가 계속해서 업데이트를 하며 좋은 모델을 만들어간다.\n",
        "- 부스팅(앙상블)기반의 알고리즘\n",
        "- 캐글(글로벌 AI 경진대회)에서 뛰어난 성능을 보이면서 인기가 높아짐"
      ],
      "metadata": {
        "id": "wujCszlCaRcY"
      }
    },
    {
      "cell_type": "code",
      "source": [
        "# XGBoost\n",
        "\n",
        "from xgboost import XGBClassifier"
      ],
      "metadata": {
        "id": "8lGxCeDId7W0"
      },
      "execution_count": 61,
      "outputs": []
    },
    {
      "cell_type": "code",
      "source": [
        "model  = XGBClassifier(random_state=0, eval_metric = 'logloss')\n",
        "model.fit(x_train, y_train)"
      ],
      "metadata": {
        "colab": {
          "base_uri": "https://localhost:8080/",
          "height": 253
        },
        "id": "dJTt_IcceE87",
        "outputId": "e2a2e3ff-a18d-4227-f245-fb1836f07588"
      },
      "execution_count": 73,
      "outputs": [
        {
          "output_type": "execute_result",
          "data": {
            "text/plain": [
              "XGBClassifier(base_score=None, booster=None, callbacks=None,\n",
              "              colsample_bylevel=None, colsample_bynode=None,\n",
              "              colsample_bytree=None, device=None, early_stopping_rounds=None,\n",
              "              enable_categorical=False, eval_metric='logloss',\n",
              "              feature_types=None, gamma=None, grow_policy=None,\n",
              "              importance_type=None, interaction_constraints=None,\n",
              "              learning_rate=None, max_bin=None, max_cat_threshold=None,\n",
              "              max_cat_to_onehot=None, max_delta_step=None, max_depth=None,\n",
              "              max_leaves=None, min_child_weight=None, missing=nan,\n",
              "              monotone_constraints=None, multi_strategy=None, n_estimators=None,\n",
              "              n_jobs=None, num_parallel_tree=None, random_state=0, ...)"
            ],
            "text/html": [
              "<style>#sk-container-id-4 {\n",
              "  /* Definition of color scheme common for light and dark mode */\n",
              "  --sklearn-color-text: #000;\n",
              "  --sklearn-color-text-muted: #666;\n",
              "  --sklearn-color-line: gray;\n",
              "  /* Definition of color scheme for unfitted estimators */\n",
              "  --sklearn-color-unfitted-level-0: #fff5e6;\n",
              "  --sklearn-color-unfitted-level-1: #f6e4d2;\n",
              "  --sklearn-color-unfitted-level-2: #ffe0b3;\n",
              "  --sklearn-color-unfitted-level-3: chocolate;\n",
              "  /* Definition of color scheme for fitted estimators */\n",
              "  --sklearn-color-fitted-level-0: #f0f8ff;\n",
              "  --sklearn-color-fitted-level-1: #d4ebff;\n",
              "  --sklearn-color-fitted-level-2: #b3dbfd;\n",
              "  --sklearn-color-fitted-level-3: cornflowerblue;\n",
              "\n",
              "  /* Specific color for light theme */\n",
              "  --sklearn-color-text-on-default-background: var(--sg-text-color, var(--theme-code-foreground, var(--jp-content-font-color1, black)));\n",
              "  --sklearn-color-background: var(--sg-background-color, var(--theme-background, var(--jp-layout-color0, white)));\n",
              "  --sklearn-color-border-box: var(--sg-text-color, var(--theme-code-foreground, var(--jp-content-font-color1, black)));\n",
              "  --sklearn-color-icon: #696969;\n",
              "\n",
              "  @media (prefers-color-scheme: dark) {\n",
              "    /* Redefinition of color scheme for dark theme */\n",
              "    --sklearn-color-text-on-default-background: var(--sg-text-color, var(--theme-code-foreground, var(--jp-content-font-color1, white)));\n",
              "    --sklearn-color-background: var(--sg-background-color, var(--theme-background, var(--jp-layout-color0, #111)));\n",
              "    --sklearn-color-border-box: var(--sg-text-color, var(--theme-code-foreground, var(--jp-content-font-color1, white)));\n",
              "    --sklearn-color-icon: #878787;\n",
              "  }\n",
              "}\n",
              "\n",
              "#sk-container-id-4 {\n",
              "  color: var(--sklearn-color-text);\n",
              "}\n",
              "\n",
              "#sk-container-id-4 pre {\n",
              "  padding: 0;\n",
              "}\n",
              "\n",
              "#sk-container-id-4 input.sk-hidden--visually {\n",
              "  border: 0;\n",
              "  clip: rect(1px 1px 1px 1px);\n",
              "  clip: rect(1px, 1px, 1px, 1px);\n",
              "  height: 1px;\n",
              "  margin: -1px;\n",
              "  overflow: hidden;\n",
              "  padding: 0;\n",
              "  position: absolute;\n",
              "  width: 1px;\n",
              "}\n",
              "\n",
              "#sk-container-id-4 div.sk-dashed-wrapped {\n",
              "  border: 1px dashed var(--sklearn-color-line);\n",
              "  margin: 0 0.4em 0.5em 0.4em;\n",
              "  box-sizing: border-box;\n",
              "  padding-bottom: 0.4em;\n",
              "  background-color: var(--sklearn-color-background);\n",
              "}\n",
              "\n",
              "#sk-container-id-4 div.sk-container {\n",
              "  /* jupyter's `normalize.less` sets `[hidden] { display: none; }`\n",
              "     but bootstrap.min.css set `[hidden] { display: none !important; }`\n",
              "     so we also need the `!important` here to be able to override the\n",
              "     default hidden behavior on the sphinx rendered scikit-learn.org.\n",
              "     See: https://github.com/scikit-learn/scikit-learn/issues/21755 */\n",
              "  display: inline-block !important;\n",
              "  position: relative;\n",
              "}\n",
              "\n",
              "#sk-container-id-4 div.sk-text-repr-fallback {\n",
              "  display: none;\n",
              "}\n",
              "\n",
              "div.sk-parallel-item,\n",
              "div.sk-serial,\n",
              "div.sk-item {\n",
              "  /* draw centered vertical line to link estimators */\n",
              "  background-image: linear-gradient(var(--sklearn-color-text-on-default-background), var(--sklearn-color-text-on-default-background));\n",
              "  background-size: 2px 100%;\n",
              "  background-repeat: no-repeat;\n",
              "  background-position: center center;\n",
              "}\n",
              "\n",
              "/* Parallel-specific style estimator block */\n",
              "\n",
              "#sk-container-id-4 div.sk-parallel-item::after {\n",
              "  content: \"\";\n",
              "  width: 100%;\n",
              "  border-bottom: 2px solid var(--sklearn-color-text-on-default-background);\n",
              "  flex-grow: 1;\n",
              "}\n",
              "\n",
              "#sk-container-id-4 div.sk-parallel {\n",
              "  display: flex;\n",
              "  align-items: stretch;\n",
              "  justify-content: center;\n",
              "  background-color: var(--sklearn-color-background);\n",
              "  position: relative;\n",
              "}\n",
              "\n",
              "#sk-container-id-4 div.sk-parallel-item {\n",
              "  display: flex;\n",
              "  flex-direction: column;\n",
              "}\n",
              "\n",
              "#sk-container-id-4 div.sk-parallel-item:first-child::after {\n",
              "  align-self: flex-end;\n",
              "  width: 50%;\n",
              "}\n",
              "\n",
              "#sk-container-id-4 div.sk-parallel-item:last-child::after {\n",
              "  align-self: flex-start;\n",
              "  width: 50%;\n",
              "}\n",
              "\n",
              "#sk-container-id-4 div.sk-parallel-item:only-child::after {\n",
              "  width: 0;\n",
              "}\n",
              "\n",
              "/* Serial-specific style estimator block */\n",
              "\n",
              "#sk-container-id-4 div.sk-serial {\n",
              "  display: flex;\n",
              "  flex-direction: column;\n",
              "  align-items: center;\n",
              "  background-color: var(--sklearn-color-background);\n",
              "  padding-right: 1em;\n",
              "  padding-left: 1em;\n",
              "}\n",
              "\n",
              "\n",
              "/* Toggleable style: style used for estimator/Pipeline/ColumnTransformer box that is\n",
              "clickable and can be expanded/collapsed.\n",
              "- Pipeline and ColumnTransformer use this feature and define the default style\n",
              "- Estimators will overwrite some part of the style using the `sk-estimator` class\n",
              "*/\n",
              "\n",
              "/* Pipeline and ColumnTransformer style (default) */\n",
              "\n",
              "#sk-container-id-4 div.sk-toggleable {\n",
              "  /* Default theme specific background. It is overwritten whether we have a\n",
              "  specific estimator or a Pipeline/ColumnTransformer */\n",
              "  background-color: var(--sklearn-color-background);\n",
              "}\n",
              "\n",
              "/* Toggleable label */\n",
              "#sk-container-id-4 label.sk-toggleable__label {\n",
              "  cursor: pointer;\n",
              "  display: flex;\n",
              "  width: 100%;\n",
              "  margin-bottom: 0;\n",
              "  padding: 0.5em;\n",
              "  box-sizing: border-box;\n",
              "  text-align: center;\n",
              "  align-items: start;\n",
              "  justify-content: space-between;\n",
              "  gap: 0.5em;\n",
              "}\n",
              "\n",
              "#sk-container-id-4 label.sk-toggleable__label .caption {\n",
              "  font-size: 0.6rem;\n",
              "  font-weight: lighter;\n",
              "  color: var(--sklearn-color-text-muted);\n",
              "}\n",
              "\n",
              "#sk-container-id-4 label.sk-toggleable__label-arrow:before {\n",
              "  /* Arrow on the left of the label */\n",
              "  content: \"▸\";\n",
              "  float: left;\n",
              "  margin-right: 0.25em;\n",
              "  color: var(--sklearn-color-icon);\n",
              "}\n",
              "\n",
              "#sk-container-id-4 label.sk-toggleable__label-arrow:hover:before {\n",
              "  color: var(--sklearn-color-text);\n",
              "}\n",
              "\n",
              "/* Toggleable content - dropdown */\n",
              "\n",
              "#sk-container-id-4 div.sk-toggleable__content {\n",
              "  max-height: 0;\n",
              "  max-width: 0;\n",
              "  overflow: hidden;\n",
              "  text-align: left;\n",
              "  /* unfitted */\n",
              "  background-color: var(--sklearn-color-unfitted-level-0);\n",
              "}\n",
              "\n",
              "#sk-container-id-4 div.sk-toggleable__content.fitted {\n",
              "  /* fitted */\n",
              "  background-color: var(--sklearn-color-fitted-level-0);\n",
              "}\n",
              "\n",
              "#sk-container-id-4 div.sk-toggleable__content pre {\n",
              "  margin: 0.2em;\n",
              "  border-radius: 0.25em;\n",
              "  color: var(--sklearn-color-text);\n",
              "  /* unfitted */\n",
              "  background-color: var(--sklearn-color-unfitted-level-0);\n",
              "}\n",
              "\n",
              "#sk-container-id-4 div.sk-toggleable__content.fitted pre {\n",
              "  /* unfitted */\n",
              "  background-color: var(--sklearn-color-fitted-level-0);\n",
              "}\n",
              "\n",
              "#sk-container-id-4 input.sk-toggleable__control:checked~div.sk-toggleable__content {\n",
              "  /* Expand drop-down */\n",
              "  max-height: 200px;\n",
              "  max-width: 100%;\n",
              "  overflow: auto;\n",
              "}\n",
              "\n",
              "#sk-container-id-4 input.sk-toggleable__control:checked~label.sk-toggleable__label-arrow:before {\n",
              "  content: \"▾\";\n",
              "}\n",
              "\n",
              "/* Pipeline/ColumnTransformer-specific style */\n",
              "\n",
              "#sk-container-id-4 div.sk-label input.sk-toggleable__control:checked~label.sk-toggleable__label {\n",
              "  color: var(--sklearn-color-text);\n",
              "  background-color: var(--sklearn-color-unfitted-level-2);\n",
              "}\n",
              "\n",
              "#sk-container-id-4 div.sk-label.fitted input.sk-toggleable__control:checked~label.sk-toggleable__label {\n",
              "  background-color: var(--sklearn-color-fitted-level-2);\n",
              "}\n",
              "\n",
              "/* Estimator-specific style */\n",
              "\n",
              "/* Colorize estimator box */\n",
              "#sk-container-id-4 div.sk-estimator input.sk-toggleable__control:checked~label.sk-toggleable__label {\n",
              "  /* unfitted */\n",
              "  background-color: var(--sklearn-color-unfitted-level-2);\n",
              "}\n",
              "\n",
              "#sk-container-id-4 div.sk-estimator.fitted input.sk-toggleable__control:checked~label.sk-toggleable__label {\n",
              "  /* fitted */\n",
              "  background-color: var(--sklearn-color-fitted-level-2);\n",
              "}\n",
              "\n",
              "#sk-container-id-4 div.sk-label label.sk-toggleable__label,\n",
              "#sk-container-id-4 div.sk-label label {\n",
              "  /* The background is the default theme color */\n",
              "  color: var(--sklearn-color-text-on-default-background);\n",
              "}\n",
              "\n",
              "/* On hover, darken the color of the background */\n",
              "#sk-container-id-4 div.sk-label:hover label.sk-toggleable__label {\n",
              "  color: var(--sklearn-color-text);\n",
              "  background-color: var(--sklearn-color-unfitted-level-2);\n",
              "}\n",
              "\n",
              "/* Label box, darken color on hover, fitted */\n",
              "#sk-container-id-4 div.sk-label.fitted:hover label.sk-toggleable__label.fitted {\n",
              "  color: var(--sklearn-color-text);\n",
              "  background-color: var(--sklearn-color-fitted-level-2);\n",
              "}\n",
              "\n",
              "/* Estimator label */\n",
              "\n",
              "#sk-container-id-4 div.sk-label label {\n",
              "  font-family: monospace;\n",
              "  font-weight: bold;\n",
              "  display: inline-block;\n",
              "  line-height: 1.2em;\n",
              "}\n",
              "\n",
              "#sk-container-id-4 div.sk-label-container {\n",
              "  text-align: center;\n",
              "}\n",
              "\n",
              "/* Estimator-specific */\n",
              "#sk-container-id-4 div.sk-estimator {\n",
              "  font-family: monospace;\n",
              "  border: 1px dotted var(--sklearn-color-border-box);\n",
              "  border-radius: 0.25em;\n",
              "  box-sizing: border-box;\n",
              "  margin-bottom: 0.5em;\n",
              "  /* unfitted */\n",
              "  background-color: var(--sklearn-color-unfitted-level-0);\n",
              "}\n",
              "\n",
              "#sk-container-id-4 div.sk-estimator.fitted {\n",
              "  /* fitted */\n",
              "  background-color: var(--sklearn-color-fitted-level-0);\n",
              "}\n",
              "\n",
              "/* on hover */\n",
              "#sk-container-id-4 div.sk-estimator:hover {\n",
              "  /* unfitted */\n",
              "  background-color: var(--sklearn-color-unfitted-level-2);\n",
              "}\n",
              "\n",
              "#sk-container-id-4 div.sk-estimator.fitted:hover {\n",
              "  /* fitted */\n",
              "  background-color: var(--sklearn-color-fitted-level-2);\n",
              "}\n",
              "\n",
              "/* Specification for estimator info (e.g. \"i\" and \"?\") */\n",
              "\n",
              "/* Common style for \"i\" and \"?\" */\n",
              "\n",
              ".sk-estimator-doc-link,\n",
              "a:link.sk-estimator-doc-link,\n",
              "a:visited.sk-estimator-doc-link {\n",
              "  float: right;\n",
              "  font-size: smaller;\n",
              "  line-height: 1em;\n",
              "  font-family: monospace;\n",
              "  background-color: var(--sklearn-color-background);\n",
              "  border-radius: 1em;\n",
              "  height: 1em;\n",
              "  width: 1em;\n",
              "  text-decoration: none !important;\n",
              "  margin-left: 0.5em;\n",
              "  text-align: center;\n",
              "  /* unfitted */\n",
              "  border: var(--sklearn-color-unfitted-level-1) 1pt solid;\n",
              "  color: var(--sklearn-color-unfitted-level-1);\n",
              "}\n",
              "\n",
              ".sk-estimator-doc-link.fitted,\n",
              "a:link.sk-estimator-doc-link.fitted,\n",
              "a:visited.sk-estimator-doc-link.fitted {\n",
              "  /* fitted */\n",
              "  border: var(--sklearn-color-fitted-level-1) 1pt solid;\n",
              "  color: var(--sklearn-color-fitted-level-1);\n",
              "}\n",
              "\n",
              "/* On hover */\n",
              "div.sk-estimator:hover .sk-estimator-doc-link:hover,\n",
              ".sk-estimator-doc-link:hover,\n",
              "div.sk-label-container:hover .sk-estimator-doc-link:hover,\n",
              ".sk-estimator-doc-link:hover {\n",
              "  /* unfitted */\n",
              "  background-color: var(--sklearn-color-unfitted-level-3);\n",
              "  color: var(--sklearn-color-background);\n",
              "  text-decoration: none;\n",
              "}\n",
              "\n",
              "div.sk-estimator.fitted:hover .sk-estimator-doc-link.fitted:hover,\n",
              ".sk-estimator-doc-link.fitted:hover,\n",
              "div.sk-label-container:hover .sk-estimator-doc-link.fitted:hover,\n",
              ".sk-estimator-doc-link.fitted:hover {\n",
              "  /* fitted */\n",
              "  background-color: var(--sklearn-color-fitted-level-3);\n",
              "  color: var(--sklearn-color-background);\n",
              "  text-decoration: none;\n",
              "}\n",
              "\n",
              "/* Span, style for the box shown on hovering the info icon */\n",
              ".sk-estimator-doc-link span {\n",
              "  display: none;\n",
              "  z-index: 9999;\n",
              "  position: relative;\n",
              "  font-weight: normal;\n",
              "  right: .2ex;\n",
              "  padding: .5ex;\n",
              "  margin: .5ex;\n",
              "  width: min-content;\n",
              "  min-width: 20ex;\n",
              "  max-width: 50ex;\n",
              "  color: var(--sklearn-color-text);\n",
              "  box-shadow: 2pt 2pt 4pt #999;\n",
              "  /* unfitted */\n",
              "  background: var(--sklearn-color-unfitted-level-0);\n",
              "  border: .5pt solid var(--sklearn-color-unfitted-level-3);\n",
              "}\n",
              "\n",
              ".sk-estimator-doc-link.fitted span {\n",
              "  /* fitted */\n",
              "  background: var(--sklearn-color-fitted-level-0);\n",
              "  border: var(--sklearn-color-fitted-level-3);\n",
              "}\n",
              "\n",
              ".sk-estimator-doc-link:hover span {\n",
              "  display: block;\n",
              "}\n",
              "\n",
              "/* \"?\"-specific style due to the `<a>` HTML tag */\n",
              "\n",
              "#sk-container-id-4 a.estimator_doc_link {\n",
              "  float: right;\n",
              "  font-size: 1rem;\n",
              "  line-height: 1em;\n",
              "  font-family: monospace;\n",
              "  background-color: var(--sklearn-color-background);\n",
              "  border-radius: 1rem;\n",
              "  height: 1rem;\n",
              "  width: 1rem;\n",
              "  text-decoration: none;\n",
              "  /* unfitted */\n",
              "  color: var(--sklearn-color-unfitted-level-1);\n",
              "  border: var(--sklearn-color-unfitted-level-1) 1pt solid;\n",
              "}\n",
              "\n",
              "#sk-container-id-4 a.estimator_doc_link.fitted {\n",
              "  /* fitted */\n",
              "  border: var(--sklearn-color-fitted-level-1) 1pt solid;\n",
              "  color: var(--sklearn-color-fitted-level-1);\n",
              "}\n",
              "\n",
              "/* On hover */\n",
              "#sk-container-id-4 a.estimator_doc_link:hover {\n",
              "  /* unfitted */\n",
              "  background-color: var(--sklearn-color-unfitted-level-3);\n",
              "  color: var(--sklearn-color-background);\n",
              "  text-decoration: none;\n",
              "}\n",
              "\n",
              "#sk-container-id-4 a.estimator_doc_link.fitted:hover {\n",
              "  /* fitted */\n",
              "  background-color: var(--sklearn-color-fitted-level-3);\n",
              "}\n",
              "</style><div id=\"sk-container-id-4\" class=\"sk-top-container\"><div class=\"sk-text-repr-fallback\"><pre>XGBClassifier(base_score=None, booster=None, callbacks=None,\n",
              "              colsample_bylevel=None, colsample_bynode=None,\n",
              "              colsample_bytree=None, device=None, early_stopping_rounds=None,\n",
              "              enable_categorical=False, eval_metric=&#x27;logloss&#x27;,\n",
              "              feature_types=None, gamma=None, grow_policy=None,\n",
              "              importance_type=None, interaction_constraints=None,\n",
              "              learning_rate=None, max_bin=None, max_cat_threshold=None,\n",
              "              max_cat_to_onehot=None, max_delta_step=None, max_depth=None,\n",
              "              max_leaves=None, min_child_weight=None, missing=nan,\n",
              "              monotone_constraints=None, multi_strategy=None, n_estimators=None,\n",
              "              n_jobs=None, num_parallel_tree=None, random_state=0, ...)</pre><b>In a Jupyter environment, please rerun this cell to show the HTML representation or trust the notebook. <br />On GitHub, the HTML representation is unable to render, please try loading this page with nbviewer.org.</b></div><div class=\"sk-container\" hidden><div class=\"sk-item\"><div class=\"sk-estimator fitted sk-toggleable\"><input class=\"sk-toggleable__control sk-hidden--visually\" id=\"sk-estimator-id-4\" type=\"checkbox\" checked><label for=\"sk-estimator-id-4\" class=\"sk-toggleable__label fitted sk-toggleable__label-arrow\"><div><div>XGBClassifier</div></div><div><span class=\"sk-estimator-doc-link fitted\">i<span>Fitted</span></span></div></label><div class=\"sk-toggleable__content fitted\"><pre>XGBClassifier(base_score=None, booster=None, callbacks=None,\n",
              "              colsample_bylevel=None, colsample_bynode=None,\n",
              "              colsample_bytree=None, device=None, early_stopping_rounds=None,\n",
              "              enable_categorical=False, eval_metric=&#x27;logloss&#x27;,\n",
              "              feature_types=None, gamma=None, grow_policy=None,\n",
              "              importance_type=None, interaction_constraints=None,\n",
              "              learning_rate=None, max_bin=None, max_cat_threshold=None,\n",
              "              max_cat_to_onehot=None, max_delta_step=None, max_depth=None,\n",
              "              max_leaves=None, min_child_weight=None, missing=nan,\n",
              "              monotone_constraints=None, multi_strategy=None, n_estimators=None,\n",
              "              n_jobs=None, num_parallel_tree=None, random_state=0, ...)</pre></div> </div></div></div></div>"
            ]
          },
          "metadata": {},
          "execution_count": 73
        }
      ]
    },
    {
      "cell_type": "code",
      "source": [
        "pred = model.predict(x_test)"
      ],
      "metadata": {
        "id": "-hkZdhkteQBz"
      },
      "execution_count": 76,
      "outputs": []
    },
    {
      "cell_type": "code",
      "source": [
        "accuracy_score(y_test, pred)"
      ],
      "metadata": {
        "colab": {
          "base_uri": "https://localhost:8080/"
        },
        "id": "5wfM2x6-enlV",
        "outputId": "5c7fdc0c-d995-4227-8485-5caa2565be2c"
      },
      "execution_count": 75,
      "outputs": [
        {
          "output_type": "execute_result",
          "data": {
            "text/plain": [
              "0.9614035087719298"
            ]
          },
          "metadata": {},
          "execution_count": 75
        }
      ]
    },
    {
      "cell_type": "markdown",
      "source": [
        "**2. 하이퍼 파라미터의 종류**\n",
        "- booster (기본값 gbtree) : 부스팅 알고리즘 (또는 dart, gblinear)\n",
        "- objective (기본값 binary:logistic) : 이진분류 (다중분류 :multi:softmax)\n",
        "- max_depth (기본값 6) : 최대 한도 깊이\n",
        "- learning_rate (기본값 0.1) : 학습률\n",
        "- n_estimators (기본값 100) : 트리의 수\n",
        "- subsample (기본값 1) : 훈련 샘플 개수의 비율\n",
        "- colsample_bytree (기본값 1) : 특성 개수의 비율\n",
        "- n_jobs (기본값 1) : 사용 코어 수 (-1: 모든 코어를 다 사용)"
      ],
      "metadata": {
        "id": "krZDYen3iC0s"
      }
    },
    {
      "cell_type": "code",
      "source": [
        "# xgboost 하이퍼파라미터\n",
        "\n",
        "model = XGBClassifier (random_state = 0, eval_metric = 'logloss',\n",
        "                       booster = 'gbtree',\n",
        "                       objective = 'binary:logistic',\n",
        "                       max_depth = 7,\n",
        "                       learning_rate = 0.1,\n",
        "                       n_estimators = 500,\n",
        "                       subsample = 1,\n",
        "                       colsample_bytree = 0.7,\n",
        "                       n_jobs = -1)\n",
        "\n",
        "\n",
        "\n",
        "model.fit(x_train, y_train)\n",
        "pred = model.predict(x_test)\n",
        "accuracy_score(y_test, pred)"
      ],
      "metadata": {
        "colab": {
          "base_uri": "https://localhost:8080/"
        },
        "id": "q-RMecXmeqJM",
        "outputId": "36d25841-f2c0-474f-9967-48a8a8eb019e"
      },
      "execution_count": 90,
      "outputs": [
        {
          "output_type": "execute_result",
          "data": {
            "text/plain": [
              "0.9649122807017544"
            ]
          },
          "metadata": {},
          "execution_count": 90
        }
      ]
    },
    {
      "cell_type": "code",
      "source": [
        "pip install --upgrade xgboost"
      ],
      "metadata": {
        "colab": {
          "base_uri": "https://localhost:8080/"
        },
        "id": "EZAXiUFemc_P",
        "outputId": "6c38b2af-373c-40f2-ef93-797a25da7769"
      },
      "execution_count": 108,
      "outputs": [
        {
          "output_type": "stream",
          "name": "stdout",
          "text": [
            "Requirement already satisfied: xgboost in /usr/local/lib/python3.11/dist-packages (3.0.0)\n",
            "Requirement already satisfied: numpy in /usr/local/lib/python3.11/dist-packages (from xgboost) (2.0.2)\n",
            "Requirement already satisfied: nvidia-nccl-cu12 in /usr/local/lib/python3.11/dist-packages (from xgboost) (2.21.5)\n",
            "Requirement already satisfied: scipy in /usr/local/lib/python3.11/dist-packages (from xgboost) (1.15.2)\n"
          ]
        }
      ]
    },
    {
      "cell_type": "code",
      "source": [
        "#조기 종료\n",
        "model = XGBClassifier (random_state = 0, eval_metric='logloss',\n",
        "                learning_rate = 0.05,\n",
        "                n_estimators = 500,\n",
        "                       early_stopping_rounds=5)\n",
        "eval_set = [(x_test, y_test)]\n",
        "model.fit(x_train, y_train, eval_set=eval_set)\n",
        "\n",
        "# model = XGBClassifier(random_state=0, use_label_encoder=False, eval_metric='logloss',\n",
        "#                      learning_rate = 0.05,\n",
        "#                       n_estimators = 500,  early_stopping_rounds=10)\n",
        "# eval_set = [(X_test, y_test)]\n",
        "# model.fit(X_train, y_train, eval_set=eval_set)\n",
        "# pred = model.predict(X_test)\n",
        "# accuracy_score(y_test, pred)"
      ],
      "metadata": {
        "colab": {
          "base_uri": "https://localhost:8080/",
          "height": 1000
        },
        "id": "Bbtrk703jJOc",
        "outputId": "33c92aea-d824-45f6-87c0-8a2ae18b51c4"
      },
      "execution_count": 112,
      "outputs": [
        {
          "output_type": "stream",
          "name": "stdout",
          "text": [
            "[0]\tvalidation_0-logloss:0.65133\n",
            "[1]\tvalidation_0-logloss:0.61622\n",
            "[2]\tvalidation_0-logloss:0.58479\n",
            "[3]\tvalidation_0-logloss:0.55575\n",
            "[4]\tvalidation_0-logloss:0.53043\n",
            "[5]\tvalidation_0-logloss:0.50622\n",
            "[6]\tvalidation_0-logloss:0.48445\n",
            "[7]\tvalidation_0-logloss:0.46342\n",
            "[8]\tvalidation_0-logloss:0.44414\n",
            "[9]\tvalidation_0-logloss:0.42749\n",
            "[10]\tvalidation_0-logloss:0.41021\n",
            "[11]\tvalidation_0-logloss:0.39427\n",
            "[12]\tvalidation_0-logloss:0.38104\n",
            "[13]\tvalidation_0-logloss:0.36810\n",
            "[14]\tvalidation_0-logloss:0.35693\n",
            "[15]\tvalidation_0-logloss:0.34518\n",
            "[16]\tvalidation_0-logloss:0.33359\n",
            "[17]\tvalidation_0-logloss:0.32386\n",
            "[18]\tvalidation_0-logloss:0.31363\n",
            "[19]\tvalidation_0-logloss:0.30526\n",
            "[20]\tvalidation_0-logloss:0.29646\n",
            "[21]\tvalidation_0-logloss:0.28918\n",
            "[22]\tvalidation_0-logloss:0.28134\n",
            "[23]\tvalidation_0-logloss:0.27427\n",
            "[24]\tvalidation_0-logloss:0.26860\n",
            "[25]\tvalidation_0-logloss:0.26207\n",
            "[26]\tvalidation_0-logloss:0.25601\n",
            "[27]\tvalidation_0-logloss:0.25163\n",
            "[28]\tvalidation_0-logloss:0.24645\n",
            "[29]\tvalidation_0-logloss:0.24143\n",
            "[30]\tvalidation_0-logloss:0.23782\n",
            "[31]\tvalidation_0-logloss:0.23378\n",
            "[32]\tvalidation_0-logloss:0.22988\n",
            "[33]\tvalidation_0-logloss:0.22635\n",
            "[34]\tvalidation_0-logloss:0.22236\n",
            "[35]\tvalidation_0-logloss:0.21932\n",
            "[36]\tvalidation_0-logloss:0.21653\n",
            "[37]\tvalidation_0-logloss:0.21368\n",
            "[38]\tvalidation_0-logloss:0.21071\n",
            "[39]\tvalidation_0-logloss:0.20835\n",
            "[40]\tvalidation_0-logloss:0.20595\n",
            "[41]\tvalidation_0-logloss:0.20338\n",
            "[42]\tvalidation_0-logloss:0.20099\n",
            "[43]\tvalidation_0-logloss:0.19924\n",
            "[44]\tvalidation_0-logloss:0.19758\n",
            "[45]\tvalidation_0-logloss:0.19529\n",
            "[46]\tvalidation_0-logloss:0.19361\n",
            "[47]\tvalidation_0-logloss:0.19147\n",
            "[48]\tvalidation_0-logloss:0.19015\n",
            "[49]\tvalidation_0-logloss:0.18909\n",
            "[50]\tvalidation_0-logloss:0.18678\n",
            "[51]\tvalidation_0-logloss:0.18497\n",
            "[52]\tvalidation_0-logloss:0.18411\n",
            "[53]\tvalidation_0-logloss:0.18211\n",
            "[54]\tvalidation_0-logloss:0.18095\n",
            "[55]\tvalidation_0-logloss:0.18017\n",
            "[56]\tvalidation_0-logloss:0.17846\n",
            "[57]\tvalidation_0-logloss:0.17762\n",
            "[58]\tvalidation_0-logloss:0.17704\n",
            "[59]\tvalidation_0-logloss:0.17683\n",
            "[60]\tvalidation_0-logloss:0.17539\n",
            "[61]\tvalidation_0-logloss:0.17474\n",
            "[62]\tvalidation_0-logloss:0.17340\n",
            "[63]\tvalidation_0-logloss:0.17311\n",
            "[64]\tvalidation_0-logloss:0.17320\n",
            "[65]\tvalidation_0-logloss:0.17317\n",
            "[66]\tvalidation_0-logloss:0.17247\n",
            "[67]\tvalidation_0-logloss:0.17099\n",
            "[68]\tvalidation_0-logloss:0.17038\n",
            "[69]\tvalidation_0-logloss:0.17045\n",
            "[70]\tvalidation_0-logloss:0.17036\n",
            "[71]\tvalidation_0-logloss:0.17062\n",
            "[72]\tvalidation_0-logloss:0.17039\n",
            "[73]\tvalidation_0-logloss:0.16993\n",
            "[74]\tvalidation_0-logloss:0.17017\n",
            "[75]\tvalidation_0-logloss:0.16980\n",
            "[76]\tvalidation_0-logloss:0.16853\n",
            "[77]\tvalidation_0-logloss:0.16822\n",
            "[78]\tvalidation_0-logloss:0.16817\n",
            "[79]\tvalidation_0-logloss:0.16813\n",
            "[80]\tvalidation_0-logloss:0.16815\n",
            "[81]\tvalidation_0-logloss:0.16827\n",
            "[82]\tvalidation_0-logloss:0.16835\n",
            "[83]\tvalidation_0-logloss:0.16839\n",
            "[84]\tvalidation_0-logloss:0.16860\n"
          ]
        },
        {
          "output_type": "execute_result",
          "data": {
            "text/plain": [
              "XGBClassifier(base_score=None, booster=None, callbacks=None,\n",
              "              colsample_bylevel=None, colsample_bynode=None,\n",
              "              colsample_bytree=None, device=None, early_stopping_rounds=5,\n",
              "              enable_categorical=False, eval_metric='logloss',\n",
              "              feature_types=None, gamma=None, grow_policy=None,\n",
              "              importance_type=None, interaction_constraints=None,\n",
              "              learning_rate=0.05, max_bin=None, max_cat_threshold=None,\n",
              "              max_cat_to_onehot=None, max_delta_step=None, max_depth=None,\n",
              "              max_leaves=None, min_child_weight=None, missing=nan,\n",
              "              monotone_constraints=None, multi_strategy=None, n_estimators=500,\n",
              "              n_jobs=None, num_parallel_tree=None, random_state=0, ...)"
            ],
            "text/html": [
              "<style>#sk-container-id-7 {\n",
              "  /* Definition of color scheme common for light and dark mode */\n",
              "  --sklearn-color-text: #000;\n",
              "  --sklearn-color-text-muted: #666;\n",
              "  --sklearn-color-line: gray;\n",
              "  /* Definition of color scheme for unfitted estimators */\n",
              "  --sklearn-color-unfitted-level-0: #fff5e6;\n",
              "  --sklearn-color-unfitted-level-1: #f6e4d2;\n",
              "  --sklearn-color-unfitted-level-2: #ffe0b3;\n",
              "  --sklearn-color-unfitted-level-3: chocolate;\n",
              "  /* Definition of color scheme for fitted estimators */\n",
              "  --sklearn-color-fitted-level-0: #f0f8ff;\n",
              "  --sklearn-color-fitted-level-1: #d4ebff;\n",
              "  --sklearn-color-fitted-level-2: #b3dbfd;\n",
              "  --sklearn-color-fitted-level-3: cornflowerblue;\n",
              "\n",
              "  /* Specific color for light theme */\n",
              "  --sklearn-color-text-on-default-background: var(--sg-text-color, var(--theme-code-foreground, var(--jp-content-font-color1, black)));\n",
              "  --sklearn-color-background: var(--sg-background-color, var(--theme-background, var(--jp-layout-color0, white)));\n",
              "  --sklearn-color-border-box: var(--sg-text-color, var(--theme-code-foreground, var(--jp-content-font-color1, black)));\n",
              "  --sklearn-color-icon: #696969;\n",
              "\n",
              "  @media (prefers-color-scheme: dark) {\n",
              "    /* Redefinition of color scheme for dark theme */\n",
              "    --sklearn-color-text-on-default-background: var(--sg-text-color, var(--theme-code-foreground, var(--jp-content-font-color1, white)));\n",
              "    --sklearn-color-background: var(--sg-background-color, var(--theme-background, var(--jp-layout-color0, #111)));\n",
              "    --sklearn-color-border-box: var(--sg-text-color, var(--theme-code-foreground, var(--jp-content-font-color1, white)));\n",
              "    --sklearn-color-icon: #878787;\n",
              "  }\n",
              "}\n",
              "\n",
              "#sk-container-id-7 {\n",
              "  color: var(--sklearn-color-text);\n",
              "}\n",
              "\n",
              "#sk-container-id-7 pre {\n",
              "  padding: 0;\n",
              "}\n",
              "\n",
              "#sk-container-id-7 input.sk-hidden--visually {\n",
              "  border: 0;\n",
              "  clip: rect(1px 1px 1px 1px);\n",
              "  clip: rect(1px, 1px, 1px, 1px);\n",
              "  height: 1px;\n",
              "  margin: -1px;\n",
              "  overflow: hidden;\n",
              "  padding: 0;\n",
              "  position: absolute;\n",
              "  width: 1px;\n",
              "}\n",
              "\n",
              "#sk-container-id-7 div.sk-dashed-wrapped {\n",
              "  border: 1px dashed var(--sklearn-color-line);\n",
              "  margin: 0 0.4em 0.5em 0.4em;\n",
              "  box-sizing: border-box;\n",
              "  padding-bottom: 0.4em;\n",
              "  background-color: var(--sklearn-color-background);\n",
              "}\n",
              "\n",
              "#sk-container-id-7 div.sk-container {\n",
              "  /* jupyter's `normalize.less` sets `[hidden] { display: none; }`\n",
              "     but bootstrap.min.css set `[hidden] { display: none !important; }`\n",
              "     so we also need the `!important` here to be able to override the\n",
              "     default hidden behavior on the sphinx rendered scikit-learn.org.\n",
              "     See: https://github.com/scikit-learn/scikit-learn/issues/21755 */\n",
              "  display: inline-block !important;\n",
              "  position: relative;\n",
              "}\n",
              "\n",
              "#sk-container-id-7 div.sk-text-repr-fallback {\n",
              "  display: none;\n",
              "}\n",
              "\n",
              "div.sk-parallel-item,\n",
              "div.sk-serial,\n",
              "div.sk-item {\n",
              "  /* draw centered vertical line to link estimators */\n",
              "  background-image: linear-gradient(var(--sklearn-color-text-on-default-background), var(--sklearn-color-text-on-default-background));\n",
              "  background-size: 2px 100%;\n",
              "  background-repeat: no-repeat;\n",
              "  background-position: center center;\n",
              "}\n",
              "\n",
              "/* Parallel-specific style estimator block */\n",
              "\n",
              "#sk-container-id-7 div.sk-parallel-item::after {\n",
              "  content: \"\";\n",
              "  width: 100%;\n",
              "  border-bottom: 2px solid var(--sklearn-color-text-on-default-background);\n",
              "  flex-grow: 1;\n",
              "}\n",
              "\n",
              "#sk-container-id-7 div.sk-parallel {\n",
              "  display: flex;\n",
              "  align-items: stretch;\n",
              "  justify-content: center;\n",
              "  background-color: var(--sklearn-color-background);\n",
              "  position: relative;\n",
              "}\n",
              "\n",
              "#sk-container-id-7 div.sk-parallel-item {\n",
              "  display: flex;\n",
              "  flex-direction: column;\n",
              "}\n",
              "\n",
              "#sk-container-id-7 div.sk-parallel-item:first-child::after {\n",
              "  align-self: flex-end;\n",
              "  width: 50%;\n",
              "}\n",
              "\n",
              "#sk-container-id-7 div.sk-parallel-item:last-child::after {\n",
              "  align-self: flex-start;\n",
              "  width: 50%;\n",
              "}\n",
              "\n",
              "#sk-container-id-7 div.sk-parallel-item:only-child::after {\n",
              "  width: 0;\n",
              "}\n",
              "\n",
              "/* Serial-specific style estimator block */\n",
              "\n",
              "#sk-container-id-7 div.sk-serial {\n",
              "  display: flex;\n",
              "  flex-direction: column;\n",
              "  align-items: center;\n",
              "  background-color: var(--sklearn-color-background);\n",
              "  padding-right: 1em;\n",
              "  padding-left: 1em;\n",
              "}\n",
              "\n",
              "\n",
              "/* Toggleable style: style used for estimator/Pipeline/ColumnTransformer box that is\n",
              "clickable and can be expanded/collapsed.\n",
              "- Pipeline and ColumnTransformer use this feature and define the default style\n",
              "- Estimators will overwrite some part of the style using the `sk-estimator` class\n",
              "*/\n",
              "\n",
              "/* Pipeline and ColumnTransformer style (default) */\n",
              "\n",
              "#sk-container-id-7 div.sk-toggleable {\n",
              "  /* Default theme specific background. It is overwritten whether we have a\n",
              "  specific estimator or a Pipeline/ColumnTransformer */\n",
              "  background-color: var(--sklearn-color-background);\n",
              "}\n",
              "\n",
              "/* Toggleable label */\n",
              "#sk-container-id-7 label.sk-toggleable__label {\n",
              "  cursor: pointer;\n",
              "  display: flex;\n",
              "  width: 100%;\n",
              "  margin-bottom: 0;\n",
              "  padding: 0.5em;\n",
              "  box-sizing: border-box;\n",
              "  text-align: center;\n",
              "  align-items: start;\n",
              "  justify-content: space-between;\n",
              "  gap: 0.5em;\n",
              "}\n",
              "\n",
              "#sk-container-id-7 label.sk-toggleable__label .caption {\n",
              "  font-size: 0.6rem;\n",
              "  font-weight: lighter;\n",
              "  color: var(--sklearn-color-text-muted);\n",
              "}\n",
              "\n",
              "#sk-container-id-7 label.sk-toggleable__label-arrow:before {\n",
              "  /* Arrow on the left of the label */\n",
              "  content: \"▸\";\n",
              "  float: left;\n",
              "  margin-right: 0.25em;\n",
              "  color: var(--sklearn-color-icon);\n",
              "}\n",
              "\n",
              "#sk-container-id-7 label.sk-toggleable__label-arrow:hover:before {\n",
              "  color: var(--sklearn-color-text);\n",
              "}\n",
              "\n",
              "/* Toggleable content - dropdown */\n",
              "\n",
              "#sk-container-id-7 div.sk-toggleable__content {\n",
              "  max-height: 0;\n",
              "  max-width: 0;\n",
              "  overflow: hidden;\n",
              "  text-align: left;\n",
              "  /* unfitted */\n",
              "  background-color: var(--sklearn-color-unfitted-level-0);\n",
              "}\n",
              "\n",
              "#sk-container-id-7 div.sk-toggleable__content.fitted {\n",
              "  /* fitted */\n",
              "  background-color: var(--sklearn-color-fitted-level-0);\n",
              "}\n",
              "\n",
              "#sk-container-id-7 div.sk-toggleable__content pre {\n",
              "  margin: 0.2em;\n",
              "  border-radius: 0.25em;\n",
              "  color: var(--sklearn-color-text);\n",
              "  /* unfitted */\n",
              "  background-color: var(--sklearn-color-unfitted-level-0);\n",
              "}\n",
              "\n",
              "#sk-container-id-7 div.sk-toggleable__content.fitted pre {\n",
              "  /* unfitted */\n",
              "  background-color: var(--sklearn-color-fitted-level-0);\n",
              "}\n",
              "\n",
              "#sk-container-id-7 input.sk-toggleable__control:checked~div.sk-toggleable__content {\n",
              "  /* Expand drop-down */\n",
              "  max-height: 200px;\n",
              "  max-width: 100%;\n",
              "  overflow: auto;\n",
              "}\n",
              "\n",
              "#sk-container-id-7 input.sk-toggleable__control:checked~label.sk-toggleable__label-arrow:before {\n",
              "  content: \"▾\";\n",
              "}\n",
              "\n",
              "/* Pipeline/ColumnTransformer-specific style */\n",
              "\n",
              "#sk-container-id-7 div.sk-label input.sk-toggleable__control:checked~label.sk-toggleable__label {\n",
              "  color: var(--sklearn-color-text);\n",
              "  background-color: var(--sklearn-color-unfitted-level-2);\n",
              "}\n",
              "\n",
              "#sk-container-id-7 div.sk-label.fitted input.sk-toggleable__control:checked~label.sk-toggleable__label {\n",
              "  background-color: var(--sklearn-color-fitted-level-2);\n",
              "}\n",
              "\n",
              "/* Estimator-specific style */\n",
              "\n",
              "/* Colorize estimator box */\n",
              "#sk-container-id-7 div.sk-estimator input.sk-toggleable__control:checked~label.sk-toggleable__label {\n",
              "  /* unfitted */\n",
              "  background-color: var(--sklearn-color-unfitted-level-2);\n",
              "}\n",
              "\n",
              "#sk-container-id-7 div.sk-estimator.fitted input.sk-toggleable__control:checked~label.sk-toggleable__label {\n",
              "  /* fitted */\n",
              "  background-color: var(--sklearn-color-fitted-level-2);\n",
              "}\n",
              "\n",
              "#sk-container-id-7 div.sk-label label.sk-toggleable__label,\n",
              "#sk-container-id-7 div.sk-label label {\n",
              "  /* The background is the default theme color */\n",
              "  color: var(--sklearn-color-text-on-default-background);\n",
              "}\n",
              "\n",
              "/* On hover, darken the color of the background */\n",
              "#sk-container-id-7 div.sk-label:hover label.sk-toggleable__label {\n",
              "  color: var(--sklearn-color-text);\n",
              "  background-color: var(--sklearn-color-unfitted-level-2);\n",
              "}\n",
              "\n",
              "/* Label box, darken color on hover, fitted */\n",
              "#sk-container-id-7 div.sk-label.fitted:hover label.sk-toggleable__label.fitted {\n",
              "  color: var(--sklearn-color-text);\n",
              "  background-color: var(--sklearn-color-fitted-level-2);\n",
              "}\n",
              "\n",
              "/* Estimator label */\n",
              "\n",
              "#sk-container-id-7 div.sk-label label {\n",
              "  font-family: monospace;\n",
              "  font-weight: bold;\n",
              "  display: inline-block;\n",
              "  line-height: 1.2em;\n",
              "}\n",
              "\n",
              "#sk-container-id-7 div.sk-label-container {\n",
              "  text-align: center;\n",
              "}\n",
              "\n",
              "/* Estimator-specific */\n",
              "#sk-container-id-7 div.sk-estimator {\n",
              "  font-family: monospace;\n",
              "  border: 1px dotted var(--sklearn-color-border-box);\n",
              "  border-radius: 0.25em;\n",
              "  box-sizing: border-box;\n",
              "  margin-bottom: 0.5em;\n",
              "  /* unfitted */\n",
              "  background-color: var(--sklearn-color-unfitted-level-0);\n",
              "}\n",
              "\n",
              "#sk-container-id-7 div.sk-estimator.fitted {\n",
              "  /* fitted */\n",
              "  background-color: var(--sklearn-color-fitted-level-0);\n",
              "}\n",
              "\n",
              "/* on hover */\n",
              "#sk-container-id-7 div.sk-estimator:hover {\n",
              "  /* unfitted */\n",
              "  background-color: var(--sklearn-color-unfitted-level-2);\n",
              "}\n",
              "\n",
              "#sk-container-id-7 div.sk-estimator.fitted:hover {\n",
              "  /* fitted */\n",
              "  background-color: var(--sklearn-color-fitted-level-2);\n",
              "}\n",
              "\n",
              "/* Specification for estimator info (e.g. \"i\" and \"?\") */\n",
              "\n",
              "/* Common style for \"i\" and \"?\" */\n",
              "\n",
              ".sk-estimator-doc-link,\n",
              "a:link.sk-estimator-doc-link,\n",
              "a:visited.sk-estimator-doc-link {\n",
              "  float: right;\n",
              "  font-size: smaller;\n",
              "  line-height: 1em;\n",
              "  font-family: monospace;\n",
              "  background-color: var(--sklearn-color-background);\n",
              "  border-radius: 1em;\n",
              "  height: 1em;\n",
              "  width: 1em;\n",
              "  text-decoration: none !important;\n",
              "  margin-left: 0.5em;\n",
              "  text-align: center;\n",
              "  /* unfitted */\n",
              "  border: var(--sklearn-color-unfitted-level-1) 1pt solid;\n",
              "  color: var(--sklearn-color-unfitted-level-1);\n",
              "}\n",
              "\n",
              ".sk-estimator-doc-link.fitted,\n",
              "a:link.sk-estimator-doc-link.fitted,\n",
              "a:visited.sk-estimator-doc-link.fitted {\n",
              "  /* fitted */\n",
              "  border: var(--sklearn-color-fitted-level-1) 1pt solid;\n",
              "  color: var(--sklearn-color-fitted-level-1);\n",
              "}\n",
              "\n",
              "/* On hover */\n",
              "div.sk-estimator:hover .sk-estimator-doc-link:hover,\n",
              ".sk-estimator-doc-link:hover,\n",
              "div.sk-label-container:hover .sk-estimator-doc-link:hover,\n",
              ".sk-estimator-doc-link:hover {\n",
              "  /* unfitted */\n",
              "  background-color: var(--sklearn-color-unfitted-level-3);\n",
              "  color: var(--sklearn-color-background);\n",
              "  text-decoration: none;\n",
              "}\n",
              "\n",
              "div.sk-estimator.fitted:hover .sk-estimator-doc-link.fitted:hover,\n",
              ".sk-estimator-doc-link.fitted:hover,\n",
              "div.sk-label-container:hover .sk-estimator-doc-link.fitted:hover,\n",
              ".sk-estimator-doc-link.fitted:hover {\n",
              "  /* fitted */\n",
              "  background-color: var(--sklearn-color-fitted-level-3);\n",
              "  color: var(--sklearn-color-background);\n",
              "  text-decoration: none;\n",
              "}\n",
              "\n",
              "/* Span, style for the box shown on hovering the info icon */\n",
              ".sk-estimator-doc-link span {\n",
              "  display: none;\n",
              "  z-index: 9999;\n",
              "  position: relative;\n",
              "  font-weight: normal;\n",
              "  right: .2ex;\n",
              "  padding: .5ex;\n",
              "  margin: .5ex;\n",
              "  width: min-content;\n",
              "  min-width: 20ex;\n",
              "  max-width: 50ex;\n",
              "  color: var(--sklearn-color-text);\n",
              "  box-shadow: 2pt 2pt 4pt #999;\n",
              "  /* unfitted */\n",
              "  background: var(--sklearn-color-unfitted-level-0);\n",
              "  border: .5pt solid var(--sklearn-color-unfitted-level-3);\n",
              "}\n",
              "\n",
              ".sk-estimator-doc-link.fitted span {\n",
              "  /* fitted */\n",
              "  background: var(--sklearn-color-fitted-level-0);\n",
              "  border: var(--sklearn-color-fitted-level-3);\n",
              "}\n",
              "\n",
              ".sk-estimator-doc-link:hover span {\n",
              "  display: block;\n",
              "}\n",
              "\n",
              "/* \"?\"-specific style due to the `<a>` HTML tag */\n",
              "\n",
              "#sk-container-id-7 a.estimator_doc_link {\n",
              "  float: right;\n",
              "  font-size: 1rem;\n",
              "  line-height: 1em;\n",
              "  font-family: monospace;\n",
              "  background-color: var(--sklearn-color-background);\n",
              "  border-radius: 1rem;\n",
              "  height: 1rem;\n",
              "  width: 1rem;\n",
              "  text-decoration: none;\n",
              "  /* unfitted */\n",
              "  color: var(--sklearn-color-unfitted-level-1);\n",
              "  border: var(--sklearn-color-unfitted-level-1) 1pt solid;\n",
              "}\n",
              "\n",
              "#sk-container-id-7 a.estimator_doc_link.fitted {\n",
              "  /* fitted */\n",
              "  border: var(--sklearn-color-fitted-level-1) 1pt solid;\n",
              "  color: var(--sklearn-color-fitted-level-1);\n",
              "}\n",
              "\n",
              "/* On hover */\n",
              "#sk-container-id-7 a.estimator_doc_link:hover {\n",
              "  /* unfitted */\n",
              "  background-color: var(--sklearn-color-unfitted-level-3);\n",
              "  color: var(--sklearn-color-background);\n",
              "  text-decoration: none;\n",
              "}\n",
              "\n",
              "#sk-container-id-7 a.estimator_doc_link.fitted:hover {\n",
              "  /* fitted */\n",
              "  background-color: var(--sklearn-color-fitted-level-3);\n",
              "}\n",
              "</style><div id=\"sk-container-id-7\" class=\"sk-top-container\"><div class=\"sk-text-repr-fallback\"><pre>XGBClassifier(base_score=None, booster=None, callbacks=None,\n",
              "              colsample_bylevel=None, colsample_bynode=None,\n",
              "              colsample_bytree=None, device=None, early_stopping_rounds=5,\n",
              "              enable_categorical=False, eval_metric=&#x27;logloss&#x27;,\n",
              "              feature_types=None, gamma=None, grow_policy=None,\n",
              "              importance_type=None, interaction_constraints=None,\n",
              "              learning_rate=0.05, max_bin=None, max_cat_threshold=None,\n",
              "              max_cat_to_onehot=None, max_delta_step=None, max_depth=None,\n",
              "              max_leaves=None, min_child_weight=None, missing=nan,\n",
              "              monotone_constraints=None, multi_strategy=None, n_estimators=500,\n",
              "              n_jobs=None, num_parallel_tree=None, random_state=0, ...)</pre><b>In a Jupyter environment, please rerun this cell to show the HTML representation or trust the notebook. <br />On GitHub, the HTML representation is unable to render, please try loading this page with nbviewer.org.</b></div><div class=\"sk-container\" hidden><div class=\"sk-item\"><div class=\"sk-estimator fitted sk-toggleable\"><input class=\"sk-toggleable__control sk-hidden--visually\" id=\"sk-estimator-id-7\" type=\"checkbox\" checked><label for=\"sk-estimator-id-7\" class=\"sk-toggleable__label fitted sk-toggleable__label-arrow\"><div><div>XGBClassifier</div></div><div><span class=\"sk-estimator-doc-link fitted\">i<span>Fitted</span></span></div></label><div class=\"sk-toggleable__content fitted\"><pre>XGBClassifier(base_score=None, booster=None, callbacks=None,\n",
              "              colsample_bylevel=None, colsample_bynode=None,\n",
              "              colsample_bytree=None, device=None, early_stopping_rounds=5,\n",
              "              enable_categorical=False, eval_metric=&#x27;logloss&#x27;,\n",
              "              feature_types=None, gamma=None, grow_policy=None,\n",
              "              importance_type=None, interaction_constraints=None,\n",
              "              learning_rate=0.05, max_bin=None, max_cat_threshold=None,\n",
              "              max_cat_to_onehot=None, max_delta_step=None, max_depth=None,\n",
              "              max_leaves=None, min_child_weight=None, missing=nan,\n",
              "              monotone_constraints=None, multi_strategy=None, n_estimators=500,\n",
              "              n_jobs=None, num_parallel_tree=None, random_state=0, ...)</pre></div> </div></div></div></div>"
            ]
          },
          "metadata": {},
          "execution_count": 112
        }
      ]
    },
    {
      "cell_type": "code",
      "source": [],
      "metadata": {
        "id": "CeZ9eRWAlMCL"
      },
      "execution_count": null,
      "outputs": []
    },
    {
      "cell_type": "markdown",
      "source": [
        "** 교차 검증**\n",
        "\n",
        "일반적으로 모델을 학습시킬때 데이터를 train set과 test set으로 나누어 train set을 가지고 학습을 수행합니다.\n",
        "\n",
        "교차검증이란 여기서 train set을 다시 train set과 validation set으로 나누어 학습 중 검증과 수정을 수행하는 것을 의미합니다."
      ],
      "metadata": {
        "id": "j0WA67g5nmSd"
      }
    },
    {
      "cell_type": "code",
      "source": [
        "#데이터셋 로드\n",
        "\n",
        "def make_dataset2():\n",
        "  cancer = load_breast_cancer()\n",
        "  df = pd.DataFrame(cancer.data, columns=cancer.feature_names)\n",
        "  df['target'] = cancer.target\n",
        "  return df.drop('target', axis=1), df['target']\n",
        "\n",
        "x, y = make_dataset2()"
      ],
      "metadata": {
        "id": "HuhS4PTMpTNa"
      },
      "execution_count": 116,
      "outputs": []
    },
    {
      "cell_type": "markdown",
      "source": [
        "**Kfold**\n",
        "\n",
        "일반적으로 사용되는 교차 검증 기법\n"
      ],
      "metadata": {
        "id": "AMG9DZVnqLFx"
      }
    },
    {
      "cell_type": "code",
      "source": [
        "#kfold\n",
        "\n",
        "from sklearn.model_selection import KFold\n",
        "model = DecisionTreeClassifier(random_state=0)"
      ],
      "metadata": {
        "id": "dZmLKbyWp9Ja"
      },
      "execution_count": 118,
      "outputs": []
    },
    {
      "cell_type": "code",
      "source": [
        "kfold = KFold(n_splits=5)\n",
        "for train_idx, test_idx in kfold.split(x):\n",
        "  x_train, x_test = x.iloc[train_idx], x.iloc[test_idx]\n",
        "  y_train, y_test = y.iloc[train_idx], y.iloc[test_idx]\n",
        "\n",
        "  model.fit(x_train, y_train)\n",
        "  pred = model.predict(x_test)\n",
        "  print(accuracy_score(y_test, pred))\n",
        ""
      ],
      "metadata": {
        "colab": {
          "base_uri": "https://localhost:8080/"
        },
        "id": "E4k3spk_qJjK",
        "outputId": "4ac530d5-0156-45f2-de25-0af3d201d182"
      },
      "execution_count": 124,
      "outputs": [
        {
          "output_type": "stream",
          "name": "stdout",
          "text": [
            "0.8771929824561403\n",
            "0.9122807017543859\n",
            "0.9473684210526315\n",
            "0.9385964912280702\n",
            "0.8407079646017699\n"
          ]
        }
      ]
    },
    {
      "cell_type": "code",
      "source": [
        "#stratified kfold\n",
        "\n",
        "from sklearn.model_selection import StratifiedKFold\n",
        "model = DecisionTreeClassifier(random_state=0)\n",
        "\n",
        "kfold = StratifiedKFold(n_splits = 5)\n",
        "for train_idx, test_idx in kfold.split(x,y):\n",
        "  x_train, x_test = x.iloc[train_idx], x.iloc[test_idx]\n",
        "  y_train, y_test = y.iloc[train_idx], y.iloc[test_idx]\n",
        "\n",
        "  model.fit(x_train, y_train)\n",
        "  pred = model.predict(x_test)\n",
        "  print(accuracy_score(y_test, pred))"
      ],
      "metadata": {
        "colab": {
          "base_uri": "https://localhost:8080/"
        },
        "id": "K25ZuQydrujD",
        "outputId": "936b89ea-7a90-4096-f1fd-8fdf771c1c61"
      },
      "execution_count": 127,
      "outputs": [
        {
          "output_type": "stream",
          "name": "stdout",
          "text": [
            "0.9035087719298246\n",
            "0.9210526315789473\n",
            "0.9122807017543859\n",
            "0.9473684210526315\n",
            "0.9026548672566371\n"
          ]
        }
      ]
    },
    {
      "cell_type": "markdown",
      "source": [
        "**사이킷런 교차검증**\n",
        "\n",
        "사이킷런 내부 API를 통해 fit(학습) - predict (예측) - evaluation (평가)"
      ],
      "metadata": {
        "id": "kOuaYSa1tZfw"
      }
    },
    {
      "cell_type": "code",
      "source": [
        "#교차검증\n",
        "\n",
        "from sklearn.model_selection import cross_val_score\n",
        "scores = cross_val_score(model, x, y, cv=3)\n"
      ],
      "metadata": {
        "colab": {
          "base_uri": "https://localhost:8080/"
        },
        "id": "3dd3VyMOtAjB",
        "outputId": "5034ba82-8b94-4b9d-b391-40dbb5cc4c4b"
      },
      "execution_count": 130,
      "outputs": [
        {
          "output_type": "execute_result",
          "data": {
            "text/plain": [
              "array([0.88947368, 0.94210526, 0.86243386])"
            ]
          },
          "metadata": {},
          "execution_count": 130
        }
      ]
    },
    {
      "cell_type": "code",
      "source": [
        "scores.mean()\n"
      ],
      "metadata": {
        "colab": {
          "base_uri": "https://localhost:8080/"
        },
        "id": "Lj8KNNs4t1LS",
        "outputId": "61bdef8c-7340-4608-8b8b-4695cc6906d3"
      },
      "execution_count": 131,
      "outputs": [
        {
          "output_type": "execute_result",
          "data": {
            "text/plain": [
              "np.float64(0.8980042699340944)"
            ]
          },
          "metadata": {},
          "execution_count": 131
        }
      ]
    },
    {
      "cell_type": "code",
      "source": [
        "#교차 검증 Stratified KFold\n",
        "\n",
        "kfold =  StratifiedKFold(n_splits= 5 )\n",
        "scores1 = cross_val_score(model, x, y, cv=kfold)"
      ],
      "metadata": {
        "id": "hVWfBcaguEdT"
      },
      "execution_count": 140,
      "outputs": []
    },
    {
      "cell_type": "code",
      "source": [
        "scores1.mean()"
      ],
      "metadata": {
        "colab": {
          "base_uri": "https://localhost:8080/"
        },
        "id": "HtVS6SoaucCJ",
        "outputId": "3c0fee2b-aad4-4fdd-9428-5587977ba877"
      },
      "execution_count": 141,
      "outputs": [
        {
          "output_type": "execute_result",
          "data": {
            "text/plain": [
              "np.float64(0.9173730787144851)"
            ]
          },
          "metadata": {},
          "execution_count": 141
        }
      ]
    },
    {
      "cell_type": "markdown",
      "source": [
        "**평가 (분류모델)**\n",
        "\n",
        "- 정확도 accuracy : 실제값과 예측값이 일치하는 비율\n",
        "- 정밀도 precision : 양성일고 예측한 값 중 실제 양성인 값의 비율 (암이라고 예측한 값 중 실제 암)\n",
        "- 재현율 recall :  실제 양성 값 중 양성으로 예측한 값의 비율 (암을 암이라고 판단)\n",
        "- F1 : 정밀도와 재현율의 조화평균\n",
        "- ROC - AUC\n",
        "\n",
        "ROC :참 양성 비율 (True Positive Rate)에 대한 거짓 양성 비율(False Positive Rate)곡선\\\n",
        "AUC : ROC곡선 면적 아래 (완벽하게 분류되면 AUC가 1임)"
      ],
      "metadata": {
        "id": "_SMojSfJzHKX"
      }
    },
    {
      "cell_type": "code",
      "source": [
        "# 정확도\n",
        "\n",
        "from sklearn.metrics import accuracy_score\n",
        "accuracy_score(y_test, pred)"
      ],
      "metadata": {
        "colab": {
          "base_uri": "https://localhost:8080/"
        },
        "id": "tMNkAv37u2k5",
        "outputId": "51c89b2c-2a04-4010-e016-23e8343eb9c2"
      },
      "execution_count": 142,
      "outputs": [
        {
          "output_type": "execute_result",
          "data": {
            "text/plain": [
              "0.9026548672566371"
            ]
          },
          "metadata": {},
          "execution_count": 142
        }
      ]
    },
    {
      "cell_type": "code",
      "source": [
        "# 재현율/민감도\n",
        "\n",
        "from sklearn.metrics import recall_score\n",
        "recall_score(y_test, pred)"
      ],
      "metadata": {
        "colab": {
          "base_uri": "https://localhost:8080/"
        },
        "id": "zmuOxUo8975o",
        "outputId": "dfc2dee4-6683-443f-fe15-64a810ea547f"
      },
      "execution_count": 143,
      "outputs": [
        {
          "output_type": "execute_result",
          "data": {
            "text/plain": [
              "0.8873239436619719"
            ]
          },
          "metadata": {},
          "execution_count": 143
        }
      ]
    },
    {
      "cell_type": "code",
      "source": [
        "# 정밀도\n",
        "\n",
        "from sklearn.metrics import precision_score\n",
        "precision_score(y_test, pred)"
      ],
      "metadata": {
        "colab": {
          "base_uri": "https://localhost:8080/"
        },
        "id": "TWvdxqud-Gd4",
        "outputId": "0c9ee6ae-d5e0-401f-b7e9-1ce5a6eccc07"
      },
      "execution_count": 145,
      "outputs": [
        {
          "output_type": "execute_result",
          "data": {
            "text/plain": [
              "0.9545454545454546"
            ]
          },
          "metadata": {},
          "execution_count": 145
        }
      ]
    },
    {
      "cell_type": "code",
      "source": [
        "# f1\n",
        "from sklearn.metrics import f1_score"
      ],
      "metadata": {
        "id": "muSodfqh-fcj"
      },
      "execution_count": 146,
      "outputs": []
    },
    {
      "cell_type": "code",
      "source": [
        "f1_score(y_test, pred)"
      ],
      "metadata": {
        "colab": {
          "base_uri": "https://localhost:8080/"
        },
        "id": "fpyZzcU1-sgv",
        "outputId": "842ea355-859a-42cb-8d0d-a6042a44e94e"
      },
      "execution_count": 147,
      "outputs": [
        {
          "output_type": "execute_result",
          "data": {
            "text/plain": [
              "0.9197080291970803"
            ]
          },
          "metadata": {},
          "execution_count": 147
        }
      ]
    },
    {
      "cell_type": "code",
      "source": [
        "#roc_auc\n",
        "from sklearn.metrics import roc_auc_score\n",
        "model = XGBClassifier(random_state=0, eval_metric='logloss')\n",
        "model.fit(x_train, y_train)\n",
        "pred = model.predict_proba(x_test)\n",
        "roc_auc_score(y_test, pred[:, 1])"
      ],
      "metadata": {
        "colab": {
          "base_uri": "https://localhost:8080/"
        },
        "id": "bUBS7u7B-v6X",
        "outputId": "327c51dd-2175-4c73-b3b4-1d75778cb8ec"
      },
      "execution_count": 151,
      "outputs": [
        {
          "output_type": "execute_result",
          "data": {
            "text/plain": [
              "np.float64(0.9983232729711603)"
            ]
          },
          "metadata": {},
          "execution_count": 151
        }
      ]
    },
    {
      "cell_type": "code",
      "source": [],
      "metadata": {
        "id": "ANIfe_Bi_JgA"
      },
      "execution_count": null,
      "outputs": []
    }
  ]
}