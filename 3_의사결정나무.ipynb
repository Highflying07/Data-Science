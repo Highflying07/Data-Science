{
  "nbformat": 4,
  "nbformat_minor": 0,
  "metadata": {
    "colab": {
      "provenance": [],
      "authorship_tag": "ABX9TyOyNW1RT0g4oyh12gy5ehA+",
      "include_colab_link": true
    },
    "kernelspec": {
      "name": "python3",
      "display_name": "Python 3"
    },
    "language_info": {
      "name": "python"
    }
  },
  "cells": [
    {
      "cell_type": "markdown",
      "metadata": {
        "id": "view-in-github",
        "colab_type": "text"
      },
      "source": [
        "<a href=\"https://colab.research.google.com/github/Highflying07/Data-Science/blob/main/3_%EC%9D%98%EC%82%AC%EA%B2%B0%EC%A0%95%EB%82%98%EB%AC%B4.ipynb\" target=\"_parent\"><img src=\"https://colab.research.google.com/assets/colab-badge.svg\" alt=\"Open In Colab\"/></a>"
      ]
    },
    {
      "cell_type": "code",
      "execution_count": null,
      "metadata": {
        "id": "mQj81q7hCFXc"
      },
      "outputs": [],
      "source": []
    },
    {
      "cell_type": "markdown",
      "source": [
        "**3. 의사결정나무**\n",
        "- 지도 학습 알고리즘(분류, 회귀)\n",
        "- 직관적인 알고리즘 (이해 쉬움)\n",
        "- 과대적합되기 쉬운 알고리믖 (트리 깊이 제한 필요)"
      ],
      "metadata": {
        "id": "GNbhZXuACQex"
      }
    },
    {
      "cell_type": "code",
      "source": [
        "# 라이브러리 및 데이터 불러오기\n",
        "#필요한 라이브러리를 가져오고, sklearn 라이브러리에 내장된 데이터를 불러옵니다.\n"
      ],
      "metadata": {
        "id": "6DVsHxsECfeH"
      },
      "execution_count": 1,
      "outputs": []
    },
    {
      "cell_type": "code",
      "source": [
        "import pandas as pd\n",
        "from sklearn.model_selection import train_test_split"
      ],
      "metadata": {
        "id": "3diZlvXBCpS4"
      },
      "execution_count": 2,
      "outputs": []
    },
    {
      "cell_type": "code",
      "source": [
        "from sklearn.metrics import accuracy_score"
      ],
      "metadata": {
        "id": "5Lsl8K0sCyPO"
      },
      "execution_count": 3,
      "outputs": []
    },
    {
      "cell_type": "code",
      "source": [
        "from sklearn.datasets import load_breast_cancer"
      ],
      "metadata": {
        "id": "T0fLv86FC2Ff"
      },
      "execution_count": 4,
      "outputs": []
    },
    {
      "cell_type": "code",
      "source": [
        "def make_dataset():\n",
        "  cancer = load_breast_cancer()\n",
        "  df = pd.DataFrame(cancer.data, columns=cancer.feature_names)\n",
        "  df['target'] = cancer.target\n",
        "  x_train, x_test, y_train, y_test = train_test_split(\n",
        "    df.drop('target', axis=1), df['target'], test_size=0.5, random_state=1004)\n",
        "  return x_train, x_test, y_train, y_test\n",
        "\n",
        "\n",
        ""
      ],
      "metadata": {
        "id": "EUiUtZcGC65Y"
      },
      "execution_count": 12,
      "outputs": []
    },
    {
      "cell_type": "code",
      "source": [
        "x_train, x_test, y_train, y_test = make_dataset()"
      ],
      "metadata": {
        "id": "rogchikhDR4_"
      },
      "execution_count": 13,
      "outputs": []
    },
    {
      "cell_type": "code",
      "source": [
        "x_train.shape, x_test.shape, y_train.shape, y_test.shape"
      ],
      "metadata": {
        "colab": {
          "base_uri": "https://localhost:8080/"
        },
        "id": "I-5UE79sErZ_",
        "outputId": "97b0a54b-5a29-4af5-c2e4-4091955c68ca"
      },
      "execution_count": 14,
      "outputs": [
        {
          "output_type": "execute_result",
          "data": {
            "text/plain": [
              "((284, 30), (285, 30), (284,), (285,))"
            ]
          },
          "metadata": {},
          "execution_count": 14
        }
      ]
    },
    {
      "cell_type": "code",
      "source": [
        "#타겟 확인\n",
        "\n",
        "y_train.value_counts()"
      ],
      "metadata": {
        "colab": {
          "base_uri": "https://localhost:8080/",
          "height": 178
        },
        "id": "1jfN-UMBExe_",
        "outputId": "3cc568d0-8b5d-461b-f9ba-d80ecb052325"
      },
      "execution_count": 15,
      "outputs": [
        {
          "output_type": "execute_result",
          "data": {
            "text/plain": [
              "target\n",
              "1    190\n",
              "0     94\n",
              "Name: count, dtype: int64"
            ],
            "text/html": [
              "<div>\n",
              "<style scoped>\n",
              "    .dataframe tbody tr th:only-of-type {\n",
              "        vertical-align: middle;\n",
              "    }\n",
              "\n",
              "    .dataframe tbody tr th {\n",
              "        vertical-align: top;\n",
              "    }\n",
              "\n",
              "    .dataframe thead th {\n",
              "        text-align: right;\n",
              "    }\n",
              "</style>\n",
              "<table border=\"1\" class=\"dataframe\">\n",
              "  <thead>\n",
              "    <tr style=\"text-align: right;\">\n",
              "      <th></th>\n",
              "      <th>count</th>\n",
              "    </tr>\n",
              "    <tr>\n",
              "      <th>target</th>\n",
              "      <th></th>\n",
              "    </tr>\n",
              "  </thead>\n",
              "  <tbody>\n",
              "    <tr>\n",
              "      <th>1</th>\n",
              "      <td>190</td>\n",
              "    </tr>\n",
              "    <tr>\n",
              "      <th>0</th>\n",
              "      <td>94</td>\n",
              "    </tr>\n",
              "  </tbody>\n",
              "</table>\n",
              "</div><br><label><b>dtype:</b> int64</label>"
            ]
          },
          "metadata": {},
          "execution_count": 15
        }
      ]
    },
    {
      "cell_type": "code",
      "source": [
        "y_test.value_counts()"
      ],
      "metadata": {
        "colab": {
          "base_uri": "https://localhost:8080/",
          "height": 178
        },
        "id": "DUr824WhE972",
        "outputId": "d2911562-290e-4f36-9522-6d71ef9fe646"
      },
      "execution_count": 16,
      "outputs": [
        {
          "output_type": "execute_result",
          "data": {
            "text/plain": [
              "target\n",
              "1    167\n",
              "0    118\n",
              "Name: count, dtype: int64"
            ],
            "text/html": [
              "<div>\n",
              "<style scoped>\n",
              "    .dataframe tbody tr th:only-of-type {\n",
              "        vertical-align: middle;\n",
              "    }\n",
              "\n",
              "    .dataframe tbody tr th {\n",
              "        vertical-align: top;\n",
              "    }\n",
              "\n",
              "    .dataframe thead th {\n",
              "        text-align: right;\n",
              "    }\n",
              "</style>\n",
              "<table border=\"1\" class=\"dataframe\">\n",
              "  <thead>\n",
              "    <tr style=\"text-align: right;\">\n",
              "      <th></th>\n",
              "      <th>count</th>\n",
              "    </tr>\n",
              "    <tr>\n",
              "      <th>target</th>\n",
              "      <th></th>\n",
              "    </tr>\n",
              "  </thead>\n",
              "  <tbody>\n",
              "    <tr>\n",
              "      <th>1</th>\n",
              "      <td>167</td>\n",
              "    </tr>\n",
              "    <tr>\n",
              "      <th>0</th>\n",
              "      <td>118</td>\n",
              "    </tr>\n",
              "  </tbody>\n",
              "</table>\n",
              "</div><br><label><b>dtype:</b> int64</label>"
            ]
          },
          "metadata": {},
          "execution_count": 16
        }
      ]
    },
    {
      "cell_type": "code",
      "source": [
        "x_train.value_counts()"
      ],
      "metadata": {
        "colab": {
          "base_uri": "https://localhost:8080/",
          "height": 544
        },
        "id": "WzwRxFQOJ6Iv",
        "outputId": "7180e758-e229-40ea-e1d0-af66af745899"
      },
      "execution_count": 17,
      "outputs": [
        {
          "output_type": "execute_result",
          "data": {
            "text/plain": [
              "mean radius  mean texture  mean perimeter  mean area  mean smoothness  mean compactness  mean concavity  mean concave points  mean symmetry  mean fractal dimension  radius error  texture error  perimeter error  area error  smoothness error  compactness error  concavity error  concave points error  symmetry error  fractal dimension error  worst radius  worst texture  worst perimeter  worst area  worst smoothness  worst compactness  worst concavity  worst concave points  worst symmetry  worst fractal dimension\n",
              "28.110       18.47         188.50          2499.0     0.11420          0.15160           0.32010         0.159500             0.1648         0.05525                 2.8730        1.4760         21.980           525.600     0.013450          0.02772            0.06389          0.014070              0.04783         0.004476                 28.110        18.47          188.50           2499.0      0.11420           0.15160            0.32010          0.15950               0.1648          0.05525                    1\n",
              "7.691        25.44         48.34           170.4      0.08668          0.11990           0.09252         0.013640             0.2037         0.07751                 0.2196        1.4790         1.445            11.730      0.015470          0.06457            0.09252          0.013640              0.02105         0.007551                 8.678         31.89          54.49            223.6       0.15960           0.30640            0.33930          0.05000               0.2790          0.10660                    1\n",
              "7.760        24.54         47.92           181.0      0.05263          0.04362           0.00000         0.000000             0.1587         0.05884                 0.3857        1.4280         2.548            19.150      0.007189          0.00466            0.00000          0.000000              0.02676         0.002783                 9.456         30.37          59.16            268.6       0.08996           0.06444            0.00000          0.00000               0.2871          0.07039                    1\n",
              "8.196        16.84         51.71           201.9      0.08600          0.05943           0.01588         0.005917             0.1769         0.06503                 0.1563        0.9567         1.094            8.205       0.008968          0.01646            0.01588          0.005917              0.02574         0.002582                 8.964         21.96          57.26            242.2       0.12970           0.13570            0.06880          0.02564               0.3105          0.07409                    1\n",
              "8.219        20.70         53.27           203.9      0.09405          0.13050           0.13210         0.021680             0.2222         0.08261                 0.1935        1.9620         1.243            10.210      0.012430          0.05416            0.07753          0.010220              0.02309         0.011780                 9.092         29.72          58.08            249.8       0.16300           0.43100            0.53810          0.07879               0.3322          0.14860                    1\n",
              "                                                                                                                                                                                                                                                                                                                                                                                                                                                                                                                                    ..\n",
              "9.333        21.94         59.01           264.0      0.09240          0.05605           0.03996         0.012820             0.1692         0.06576                 0.3013        1.8790         2.121            17.860      0.010940          0.01834            0.03996          0.012820              0.03759         0.004623                 9.845         25.05          62.86            295.8       0.11030           0.08298            0.07993          0.02564               0.2435          0.07393                    1\n",
              "9.268        12.87         61.49           248.7      0.16340          0.22390           0.09730         0.052520             0.2378         0.09502                 0.4076        1.0930         3.014            20.040      0.009783          0.04542            0.03483          0.021880              0.02542         0.010450                 10.280        16.38          69.05            300.2       0.19020           0.34410            0.20990          0.10250               0.3038          0.12520                    1\n",
              "9.173        13.86         59.20           260.9      0.07721          0.08751           0.05988         0.021800             0.2341         0.06963                 0.4098        2.2650         2.608            23.520      0.008738          0.03938            0.04312          0.015600              0.04192         0.005822                 10.010        19.23          65.59            310.1       0.09836           0.16780            0.13970          0.05087               0.3282          0.08490                    1\n",
              "9.042        18.90         60.07           244.5      0.09968          0.19720           0.19750         0.049080             0.2330         0.08743                 0.4653        1.9110         3.769            24.200      0.009845          0.06590            0.10270          0.025270              0.03491         0.007877                 10.060        23.40          68.62            297.1       0.12210           0.37480            0.46090          0.11450               0.3135          0.10550                    1\n",
              "9.029        17.33         58.79           250.5      0.10660          0.14130           0.31300         0.043750             0.2111         0.08046                 0.3274        1.1940         1.885            17.670      0.009549          0.08606            0.30380          0.033220              0.04197         0.009559                 10.310        22.65          65.50            324.7       0.14820           0.43650            1.25200          0.17500               0.4228          0.11750                    1\n",
              "Name: count, Length: 284, dtype: int64"
            ],
            "text/html": [
              "<div>\n",
              "<style scoped>\n",
              "    .dataframe tbody tr th:only-of-type {\n",
              "        vertical-align: middle;\n",
              "    }\n",
              "\n",
              "    .dataframe tbody tr th {\n",
              "        vertical-align: top;\n",
              "    }\n",
              "\n",
              "    .dataframe thead th {\n",
              "        text-align: right;\n",
              "    }\n",
              "</style>\n",
              "<table border=\"1\" class=\"dataframe\">\n",
              "  <thead>\n",
              "    <tr style=\"text-align: right;\">\n",
              "      <th></th>\n",
              "      <th></th>\n",
              "      <th></th>\n",
              "      <th></th>\n",
              "      <th></th>\n",
              "      <th></th>\n",
              "      <th></th>\n",
              "      <th></th>\n",
              "      <th></th>\n",
              "      <th></th>\n",
              "      <th></th>\n",
              "      <th></th>\n",
              "      <th></th>\n",
              "      <th></th>\n",
              "      <th></th>\n",
              "      <th></th>\n",
              "      <th></th>\n",
              "      <th></th>\n",
              "      <th></th>\n",
              "      <th></th>\n",
              "      <th></th>\n",
              "      <th></th>\n",
              "      <th></th>\n",
              "      <th></th>\n",
              "      <th></th>\n",
              "      <th></th>\n",
              "      <th></th>\n",
              "      <th></th>\n",
              "      <th></th>\n",
              "      <th></th>\n",
              "      <th>count</th>\n",
              "    </tr>\n",
              "    <tr>\n",
              "      <th>mean radius</th>\n",
              "      <th>mean texture</th>\n",
              "      <th>mean perimeter</th>\n",
              "      <th>mean area</th>\n",
              "      <th>mean smoothness</th>\n",
              "      <th>mean compactness</th>\n",
              "      <th>mean concavity</th>\n",
              "      <th>mean concave points</th>\n",
              "      <th>mean symmetry</th>\n",
              "      <th>mean fractal dimension</th>\n",
              "      <th>radius error</th>\n",
              "      <th>texture error</th>\n",
              "      <th>perimeter error</th>\n",
              "      <th>area error</th>\n",
              "      <th>smoothness error</th>\n",
              "      <th>compactness error</th>\n",
              "      <th>concavity error</th>\n",
              "      <th>concave points error</th>\n",
              "      <th>symmetry error</th>\n",
              "      <th>fractal dimension error</th>\n",
              "      <th>worst radius</th>\n",
              "      <th>worst texture</th>\n",
              "      <th>worst perimeter</th>\n",
              "      <th>worst area</th>\n",
              "      <th>worst smoothness</th>\n",
              "      <th>worst compactness</th>\n",
              "      <th>worst concavity</th>\n",
              "      <th>worst concave points</th>\n",
              "      <th>worst symmetry</th>\n",
              "      <th>worst fractal dimension</th>\n",
              "      <th></th>\n",
              "    </tr>\n",
              "  </thead>\n",
              "  <tbody>\n",
              "    <tr>\n",
              "      <th>28.110</th>\n",
              "      <th>18.47</th>\n",
              "      <th>188.50</th>\n",
              "      <th>2499.0</th>\n",
              "      <th>0.11420</th>\n",
              "      <th>0.15160</th>\n",
              "      <th>0.32010</th>\n",
              "      <th>0.159500</th>\n",
              "      <th>0.1648</th>\n",
              "      <th>0.05525</th>\n",
              "      <th>2.8730</th>\n",
              "      <th>1.4760</th>\n",
              "      <th>21.980</th>\n",
              "      <th>525.600</th>\n",
              "      <th>0.013450</th>\n",
              "      <th>0.02772</th>\n",
              "      <th>0.06389</th>\n",
              "      <th>0.014070</th>\n",
              "      <th>0.04783</th>\n",
              "      <th>0.004476</th>\n",
              "      <th>28.110</th>\n",
              "      <th>18.47</th>\n",
              "      <th>188.50</th>\n",
              "      <th>2499.0</th>\n",
              "      <th>0.11420</th>\n",
              "      <th>0.15160</th>\n",
              "      <th>0.32010</th>\n",
              "      <th>0.15950</th>\n",
              "      <th>0.1648</th>\n",
              "      <th>0.05525</th>\n",
              "      <td>1</td>\n",
              "    </tr>\n",
              "    <tr>\n",
              "      <th>7.691</th>\n",
              "      <th>25.44</th>\n",
              "      <th>48.34</th>\n",
              "      <th>170.4</th>\n",
              "      <th>0.08668</th>\n",
              "      <th>0.11990</th>\n",
              "      <th>0.09252</th>\n",
              "      <th>0.013640</th>\n",
              "      <th>0.2037</th>\n",
              "      <th>0.07751</th>\n",
              "      <th>0.2196</th>\n",
              "      <th>1.4790</th>\n",
              "      <th>1.445</th>\n",
              "      <th>11.730</th>\n",
              "      <th>0.015470</th>\n",
              "      <th>0.06457</th>\n",
              "      <th>0.09252</th>\n",
              "      <th>0.013640</th>\n",
              "      <th>0.02105</th>\n",
              "      <th>0.007551</th>\n",
              "      <th>8.678</th>\n",
              "      <th>31.89</th>\n",
              "      <th>54.49</th>\n",
              "      <th>223.6</th>\n",
              "      <th>0.15960</th>\n",
              "      <th>0.30640</th>\n",
              "      <th>0.33930</th>\n",
              "      <th>0.05000</th>\n",
              "      <th>0.2790</th>\n",
              "      <th>0.10660</th>\n",
              "      <td>1</td>\n",
              "    </tr>\n",
              "    <tr>\n",
              "      <th>7.760</th>\n",
              "      <th>24.54</th>\n",
              "      <th>47.92</th>\n",
              "      <th>181.0</th>\n",
              "      <th>0.05263</th>\n",
              "      <th>0.04362</th>\n",
              "      <th>0.00000</th>\n",
              "      <th>0.000000</th>\n",
              "      <th>0.1587</th>\n",
              "      <th>0.05884</th>\n",
              "      <th>0.3857</th>\n",
              "      <th>1.4280</th>\n",
              "      <th>2.548</th>\n",
              "      <th>19.150</th>\n",
              "      <th>0.007189</th>\n",
              "      <th>0.00466</th>\n",
              "      <th>0.00000</th>\n",
              "      <th>0.000000</th>\n",
              "      <th>0.02676</th>\n",
              "      <th>0.002783</th>\n",
              "      <th>9.456</th>\n",
              "      <th>30.37</th>\n",
              "      <th>59.16</th>\n",
              "      <th>268.6</th>\n",
              "      <th>0.08996</th>\n",
              "      <th>0.06444</th>\n",
              "      <th>0.00000</th>\n",
              "      <th>0.00000</th>\n",
              "      <th>0.2871</th>\n",
              "      <th>0.07039</th>\n",
              "      <td>1</td>\n",
              "    </tr>\n",
              "    <tr>\n",
              "      <th>8.196</th>\n",
              "      <th>16.84</th>\n",
              "      <th>51.71</th>\n",
              "      <th>201.9</th>\n",
              "      <th>0.08600</th>\n",
              "      <th>0.05943</th>\n",
              "      <th>0.01588</th>\n",
              "      <th>0.005917</th>\n",
              "      <th>0.1769</th>\n",
              "      <th>0.06503</th>\n",
              "      <th>0.1563</th>\n",
              "      <th>0.9567</th>\n",
              "      <th>1.094</th>\n",
              "      <th>8.205</th>\n",
              "      <th>0.008968</th>\n",
              "      <th>0.01646</th>\n",
              "      <th>0.01588</th>\n",
              "      <th>0.005917</th>\n",
              "      <th>0.02574</th>\n",
              "      <th>0.002582</th>\n",
              "      <th>8.964</th>\n",
              "      <th>21.96</th>\n",
              "      <th>57.26</th>\n",
              "      <th>242.2</th>\n",
              "      <th>0.12970</th>\n",
              "      <th>0.13570</th>\n",
              "      <th>0.06880</th>\n",
              "      <th>0.02564</th>\n",
              "      <th>0.3105</th>\n",
              "      <th>0.07409</th>\n",
              "      <td>1</td>\n",
              "    </tr>\n",
              "    <tr>\n",
              "      <th>8.219</th>\n",
              "      <th>20.70</th>\n",
              "      <th>53.27</th>\n",
              "      <th>203.9</th>\n",
              "      <th>0.09405</th>\n",
              "      <th>0.13050</th>\n",
              "      <th>0.13210</th>\n",
              "      <th>0.021680</th>\n",
              "      <th>0.2222</th>\n",
              "      <th>0.08261</th>\n",
              "      <th>0.1935</th>\n",
              "      <th>1.9620</th>\n",
              "      <th>1.243</th>\n",
              "      <th>10.210</th>\n",
              "      <th>0.012430</th>\n",
              "      <th>0.05416</th>\n",
              "      <th>0.07753</th>\n",
              "      <th>0.010220</th>\n",
              "      <th>0.02309</th>\n",
              "      <th>0.011780</th>\n",
              "      <th>9.092</th>\n",
              "      <th>29.72</th>\n",
              "      <th>58.08</th>\n",
              "      <th>249.8</th>\n",
              "      <th>0.16300</th>\n",
              "      <th>0.43100</th>\n",
              "      <th>0.53810</th>\n",
              "      <th>0.07879</th>\n",
              "      <th>0.3322</th>\n",
              "      <th>0.14860</th>\n",
              "      <td>1</td>\n",
              "    </tr>\n",
              "    <tr>\n",
              "      <th>...</th>\n",
              "      <th>...</th>\n",
              "      <th>...</th>\n",
              "      <th>...</th>\n",
              "      <th>...</th>\n",
              "      <th>...</th>\n",
              "      <th>...</th>\n",
              "      <th>...</th>\n",
              "      <th>...</th>\n",
              "      <th>...</th>\n",
              "      <th>...</th>\n",
              "      <th>...</th>\n",
              "      <th>...</th>\n",
              "      <th>...</th>\n",
              "      <th>...</th>\n",
              "      <th>...</th>\n",
              "      <th>...</th>\n",
              "      <th>...</th>\n",
              "      <th>...</th>\n",
              "      <th>...</th>\n",
              "      <th>...</th>\n",
              "      <th>...</th>\n",
              "      <th>...</th>\n",
              "      <th>...</th>\n",
              "      <th>...</th>\n",
              "      <th>...</th>\n",
              "      <th>...</th>\n",
              "      <th>...</th>\n",
              "      <th>...</th>\n",
              "      <th>...</th>\n",
              "      <td>...</td>\n",
              "    </tr>\n",
              "    <tr>\n",
              "      <th>9.333</th>\n",
              "      <th>21.94</th>\n",
              "      <th>59.01</th>\n",
              "      <th>264.0</th>\n",
              "      <th>0.09240</th>\n",
              "      <th>0.05605</th>\n",
              "      <th>0.03996</th>\n",
              "      <th>0.012820</th>\n",
              "      <th>0.1692</th>\n",
              "      <th>0.06576</th>\n",
              "      <th>0.3013</th>\n",
              "      <th>1.8790</th>\n",
              "      <th>2.121</th>\n",
              "      <th>17.860</th>\n",
              "      <th>0.010940</th>\n",
              "      <th>0.01834</th>\n",
              "      <th>0.03996</th>\n",
              "      <th>0.012820</th>\n",
              "      <th>0.03759</th>\n",
              "      <th>0.004623</th>\n",
              "      <th>9.845</th>\n",
              "      <th>25.05</th>\n",
              "      <th>62.86</th>\n",
              "      <th>295.8</th>\n",
              "      <th>0.11030</th>\n",
              "      <th>0.08298</th>\n",
              "      <th>0.07993</th>\n",
              "      <th>0.02564</th>\n",
              "      <th>0.2435</th>\n",
              "      <th>0.07393</th>\n",
              "      <td>1</td>\n",
              "    </tr>\n",
              "    <tr>\n",
              "      <th>9.268</th>\n",
              "      <th>12.87</th>\n",
              "      <th>61.49</th>\n",
              "      <th>248.7</th>\n",
              "      <th>0.16340</th>\n",
              "      <th>0.22390</th>\n",
              "      <th>0.09730</th>\n",
              "      <th>0.052520</th>\n",
              "      <th>0.2378</th>\n",
              "      <th>0.09502</th>\n",
              "      <th>0.4076</th>\n",
              "      <th>1.0930</th>\n",
              "      <th>3.014</th>\n",
              "      <th>20.040</th>\n",
              "      <th>0.009783</th>\n",
              "      <th>0.04542</th>\n",
              "      <th>0.03483</th>\n",
              "      <th>0.021880</th>\n",
              "      <th>0.02542</th>\n",
              "      <th>0.010450</th>\n",
              "      <th>10.280</th>\n",
              "      <th>16.38</th>\n",
              "      <th>69.05</th>\n",
              "      <th>300.2</th>\n",
              "      <th>0.19020</th>\n",
              "      <th>0.34410</th>\n",
              "      <th>0.20990</th>\n",
              "      <th>0.10250</th>\n",
              "      <th>0.3038</th>\n",
              "      <th>0.12520</th>\n",
              "      <td>1</td>\n",
              "    </tr>\n",
              "    <tr>\n",
              "      <th>9.173</th>\n",
              "      <th>13.86</th>\n",
              "      <th>59.20</th>\n",
              "      <th>260.9</th>\n",
              "      <th>0.07721</th>\n",
              "      <th>0.08751</th>\n",
              "      <th>0.05988</th>\n",
              "      <th>0.021800</th>\n",
              "      <th>0.2341</th>\n",
              "      <th>0.06963</th>\n",
              "      <th>0.4098</th>\n",
              "      <th>2.2650</th>\n",
              "      <th>2.608</th>\n",
              "      <th>23.520</th>\n",
              "      <th>0.008738</th>\n",
              "      <th>0.03938</th>\n",
              "      <th>0.04312</th>\n",
              "      <th>0.015600</th>\n",
              "      <th>0.04192</th>\n",
              "      <th>0.005822</th>\n",
              "      <th>10.010</th>\n",
              "      <th>19.23</th>\n",
              "      <th>65.59</th>\n",
              "      <th>310.1</th>\n",
              "      <th>0.09836</th>\n",
              "      <th>0.16780</th>\n",
              "      <th>0.13970</th>\n",
              "      <th>0.05087</th>\n",
              "      <th>0.3282</th>\n",
              "      <th>0.08490</th>\n",
              "      <td>1</td>\n",
              "    </tr>\n",
              "    <tr>\n",
              "      <th>9.042</th>\n",
              "      <th>18.90</th>\n",
              "      <th>60.07</th>\n",
              "      <th>244.5</th>\n",
              "      <th>0.09968</th>\n",
              "      <th>0.19720</th>\n",
              "      <th>0.19750</th>\n",
              "      <th>0.049080</th>\n",
              "      <th>0.2330</th>\n",
              "      <th>0.08743</th>\n",
              "      <th>0.4653</th>\n",
              "      <th>1.9110</th>\n",
              "      <th>3.769</th>\n",
              "      <th>24.200</th>\n",
              "      <th>0.009845</th>\n",
              "      <th>0.06590</th>\n",
              "      <th>0.10270</th>\n",
              "      <th>0.025270</th>\n",
              "      <th>0.03491</th>\n",
              "      <th>0.007877</th>\n",
              "      <th>10.060</th>\n",
              "      <th>23.40</th>\n",
              "      <th>68.62</th>\n",
              "      <th>297.1</th>\n",
              "      <th>0.12210</th>\n",
              "      <th>0.37480</th>\n",
              "      <th>0.46090</th>\n",
              "      <th>0.11450</th>\n",
              "      <th>0.3135</th>\n",
              "      <th>0.10550</th>\n",
              "      <td>1</td>\n",
              "    </tr>\n",
              "    <tr>\n",
              "      <th>9.029</th>\n",
              "      <th>17.33</th>\n",
              "      <th>58.79</th>\n",
              "      <th>250.5</th>\n",
              "      <th>0.10660</th>\n",
              "      <th>0.14130</th>\n",
              "      <th>0.31300</th>\n",
              "      <th>0.043750</th>\n",
              "      <th>0.2111</th>\n",
              "      <th>0.08046</th>\n",
              "      <th>0.3274</th>\n",
              "      <th>1.1940</th>\n",
              "      <th>1.885</th>\n",
              "      <th>17.670</th>\n",
              "      <th>0.009549</th>\n",
              "      <th>0.08606</th>\n",
              "      <th>0.30380</th>\n",
              "      <th>0.033220</th>\n",
              "      <th>0.04197</th>\n",
              "      <th>0.009559</th>\n",
              "      <th>10.310</th>\n",
              "      <th>22.65</th>\n",
              "      <th>65.50</th>\n",
              "      <th>324.7</th>\n",
              "      <th>0.14820</th>\n",
              "      <th>0.43650</th>\n",
              "      <th>1.25200</th>\n",
              "      <th>0.17500</th>\n",
              "      <th>0.4228</th>\n",
              "      <th>0.11750</th>\n",
              "      <td>1</td>\n",
              "    </tr>\n",
              "  </tbody>\n",
              "</table>\n",
              "<p>284 rows × 1 columns</p>\n",
              "</div><br><label><b>dtype:</b> int64</label>"
            ]
          },
          "metadata": {},
          "execution_count": 17
        }
      ]
    },
    {
      "cell_type": "code",
      "source": [],
      "metadata": {
        "id": "UFi018jvJ_Bv"
      },
      "execution_count": null,
      "outputs": []
    },
    {
      "cell_type": "markdown",
      "source": [
        "**2.의사 결정 나무**\n",
        "- 지도 학습(분류)에서 가장 유용하게 사용되고 있는 기법 중 하나입니다.\n",
        "- 트리의 루트(root)에서 시작해서 정보이득이 최대가 되는 특성으로 데이터를 다룹니다.\n",
        "- 정보이득이 최대가 되는 특성을 나누는 기준(불순도를 측정하는 기준)은 '지니'와 '엔트로피'가 사용됩니다.\n",
        "\n",
        "데이터가 한 종류만 있다면 엔트로피/지니 불순도는 0에 가깝고, 서로 다른 데이터의 비율이 비슷하면 1에 가깝습니다.\\\n",
        "정보이득이 최대라는 것은 불순도를 최소화하는 방향입니다.(1-불순도)"
      ],
      "metadata": {
        "id": "WBWs1aMmKIMU"
      }
    },
    {
      "cell_type": "code",
      "source": [
        "#의사결정나무\n",
        "\n",
        "from sklearn.tree import DecisionTreeClassifier\n",
        "model = DecisionTreeClassifier(random_state=0)"
      ],
      "metadata": {
        "id": "SaaEiAYrK4E9"
      },
      "execution_count": 18,
      "outputs": []
    },
    {
      "cell_type": "code",
      "source": [
        "model.fit(x_train, y_train)\n",
        "pred = model.predict(x_test)\n",
        "accuracy_score(y_test, pred)"
      ],
      "metadata": {
        "colab": {
          "base_uri": "https://localhost:8080/"
        },
        "id": "O2orKYJbLK1u",
        "outputId": "54ccaeb8-e556-42d4-acac-499716ceff1d"
      },
      "execution_count": 19,
      "outputs": [
        {
          "output_type": "execute_result",
          "data": {
            "text/plain": [
              "0.9263157894736842"
            ]
          },
          "metadata": {},
          "execution_count": 19
        }
      ]
    },
    {
      "cell_type": "markdown",
      "source": [
        "**3. 의사결정나무 하이퍼파라메터**\n",
        "- criterion 기본값 gini : 불순도 지표(또는 엔트로피 불순도 entropy)\n",
        "- min_samples_split(기본값 2) : 자식 노드를 갖기 위한 최소한의 데이터 수\n",
        "- min_samples_leaf(기본값 1) : 리프 노드가 되기 위한 최소 샘플 수"
      ],
      "metadata": {
        "id": "CqMY3931LwU-"
      }
    },
    {
      "cell_type": "code",
      "source": [
        "#의사결정나무 하이퍼파라미터\n",
        "\n",
        "from sklearn.tree import DecisionTreeClassifier\n",
        "model = DecisionTreeClassifier(\n",
        "    criterion = 'entropy',\n",
        "    max_depth = 7,\n",
        "    min_samples_split =2,\n",
        "    min_samples_leaf = 2,\n",
        "    random_state=0)\n",
        "model.fit(x_train, y_train)\n",
        "pred = model.predict(x_test)\n",
        "accuracy_score(y_test, pred)"
      ],
      "metadata": {
        "colab": {
          "base_uri": "https://localhost:8080/"
        },
        "id": "fMQHoOZYLZzP",
        "outputId": "4e16ef62-1f85-4654-f7f1-92c3be153df4"
      },
      "execution_count": 23,
      "outputs": [
        {
          "output_type": "execute_result",
          "data": {
            "text/plain": [
              "0.9228070175438596"
            ]
          },
          "metadata": {},
          "execution_count": 23
        }
      ]
    },
    {
      "cell_type": "code",
      "source": [],
      "metadata": {
        "id": "cmiNBL2VM7jv"
      },
      "execution_count": null,
      "outputs": []
    }
  ]
}