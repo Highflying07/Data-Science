{
 "cells": [
  {
   "cell_type": "code",
   "execution_count": 1,
   "id": "3a765798",
   "metadata": {
    "_cell_guid": "b1076dfc-b9ad-4769-8c92-a6c4dae69d19",
    "_uuid": "8f2839f25d086af736a60e9eeb907d3b93b6e0e5",
    "execution": {
     "iopub.execute_input": "2025-04-13T06:06:47.209791Z",
     "iopub.status.busy": "2025-04-13T06:06:47.209376Z",
     "iopub.status.idle": "2025-04-13T06:06:49.386691Z",
     "shell.execute_reply": "2025-04-13T06:06:49.385521Z"
    },
    "papermill": {
     "duration": 2.185432,
     "end_time": "2025-04-13T06:06:49.388356",
     "exception": false,
     "start_time": "2025-04-13T06:06:47.202924",
     "status": "completed"
    },
    "tags": []
   },
   "outputs": [
    {
     "name": "stdout",
     "output_type": "stream",
     "text": [
      "/kaggle/input/titanic/train.csv\n",
      "/kaggle/input/titanic/test.csv\n",
      "/kaggle/input/titanic/gender_submission.csv\n"
     ]
    }
   ],
   "source": [
    "# This Python 3 environment comes with many helpful analytics libraries installed\n",
    "# It is defined by the kaggle/python Docker image: https://github.com/kaggle/docker-python\n",
    "# For example, here's several helpful packages to load\n",
    "\n",
    "import numpy as np # linear algebra\n",
    "import pandas as pd # data processing, CSV file I/O (e.g. pd.read_csv)\n",
    "\n",
    "# Input data files are available in the read-only \"../input/\" directory\n",
    "# For example, running this (by clicking run or pressing Shift+Enter) will list all files under the input directory\n",
    "\n",
    "import os\n",
    "for dirname, _, filenames in os.walk('/kaggle/input'):\n",
    "    for filename in filenames:\n",
    "        print(os.path.join(dirname, filename))\n",
    "\n",
    "# You can write up to 20GB to the current directory (/kaggle/working/) that gets preserved as output when you create a version using \"Save & Run All\" \n",
    "# You can also write temporary files to /kaggle/temp/, but they won't be saved outside of the current session"
   ]
  },
  {
   "cell_type": "markdown",
   "id": "92faa594",
   "metadata": {
    "papermill": {
     "duration": 0.004461,
     "end_time": "2025-04-13T06:06:49.397621",
     "exception": false,
     "start_time": "2025-04-13T06:06:49.393160",
     "status": "completed"
    },
    "tags": []
   },
   "source": [
    "TITANIC TRANSCRITPION\n",
    "\n",
    "DAY 1 필사 시작\n",
    "\n",
    "만약 데이터 사이언스, 머신러닝 또는 캐글에서 어떤것을 해야하는지 잘 모르는 NEWBEL이라면, 타이타닉으르 하시는게 가장 좋은 선택입니다.\n",
    "\n",
    "타이타닉은 아시다시피, 사상 최대 해난사고로 15000여명의 희생자가 생겼습니다.\n",
    "우리는 이 튜토리얼에서 타이타닉에 탑승한 사람들의 신상정보를 활용하여, 승선한 사람들의 생존여부를 예측하는 모델을 생성할 것입니다.\n",
    "\n",
    "본 튜토리얼에서는 여러 시각화 도구(matplotlib, seaborn, plotly), 데이터 분석 도구(panda, numpy), 머신러닝도구(sklearn)을 사용할 것입니다.\n",
    "\n",
    "본 튜토리얼은 캐글에 있는 여러 커널들을 차마조하여 만들었습니다. 본 튜토리얼을 공부하신 뒤에, 캐글 타이타닉 컴퍼티션에 존재하는 여러 다른 커널들을 더 공부하시면 됩니다.\n",
    "\n",
    "본 튜토리얼은 파이썬 문법에 어려움이없으셔야 수월할 것입니다. 여기서 사용하는 라이브러리들을 써 본 경험이 있다면 좋겠지만, 경험이 없다하더라도 한줈ㄱ 천천히 적어나가시면 충분히 하실 수 있습니다.\n",
    "\n",
    "\n"
   ]
  },
  {
   "cell_type": "code",
   "execution_count": 2,
   "id": "c384fd4e",
   "metadata": {
    "execution": {
     "iopub.execute_input": "2025-04-13T06:06:49.408065Z",
     "iopub.status.busy": "2025-04-13T06:06:49.407645Z",
     "iopub.status.idle": "2025-04-13T06:06:51.467073Z",
     "shell.execute_reply": "2025-04-13T06:06:51.465954Z"
    },
    "papermill": {
     "duration": 2.06723,
     "end_time": "2025-04-13T06:06:51.469295",
     "exception": false,
     "start_time": "2025-04-13T06:06:49.402065",
     "status": "completed"
    },
    "tags": []
   },
   "outputs": [],
   "source": [
    "import numpy as np \n",
    "import pandas as pd\n",
    "import matplotlib.pyplot as plt\n",
    "import seaborn as sns\n",
    "sns.set(style='darkgrid', font_scale=1.5) \n",
    "# 이 두줄은 본 필자가 항상 쓰는 방법입니다. \n",
    "# matplotlib의 기본 scheme말고 seaborn scheme을 세팅하고, \n",
    "# 일일이 graph의 font size를 지정할 필요 없이 seaborn의 font_scale을 사용하면 편합니다.\n",
    "\n",
    "# import seaborn as sns\n",
    "# sns.set()  # This applies the default Seaborn style\n",
    "\n",
    "#ignore warnings\n",
    "import warnings\n",
    "warnings.filterwarnings('ignore')\n",
    "\n",
    "%matplotlib inline"
   ]
  },
  {
   "cell_type": "markdown",
   "id": "8f9b5837",
   "metadata": {
    "papermill": {
     "duration": 0.00411,
     "end_time": "2025-04-13T06:06:51.477818",
     "exception": false,
     "start_time": "2025-04-13T06:06:51.473708",
     "status": "completed"
    },
    "tags": []
   },
   "source": [
    "앞으로 우리가 해야할 프로세스는 대락 아래와 같습니다.\n",
    "1. 데이터셋 확인 - 대부분의 캐글 데이터들은 잘 정체되어 있습니다. 하지만 가끔 NULL DATA가 존재합니다. 이를 확인하고 향후 수정합니다.\n",
    "2. 탐색적 데이터 분석(exploratory data anaysis) -여러 feature들을 개별적으로 부넉하고, feature들 간의 상관관계를 확인합니다. 여럽 시각화 툴을 사용하여 insight를 얻습니다.\n",
    "3. feature enginering- 모델을 세우기에 앞서, 모델의 성능을 높일 수 있도록 feature들을 engineering합니다. one-hot encoding, class로 나누기, 구간으로 나누기, 텍스트 데이터 처리 등을 합ㄴ디ㅏ.\n",
    "4. model만들기 - sklearn을 사용해 모델을 만듭니다. 파이썬에서 머신러닝을 할때는 sklearn 을 사용하면 수많은 알고리즘을 일관된 문법으로 사용할 수 있습니다. 물론 딥러닝을 위해 tensorflow, pythorch등을 사용할 수 도 있습니다.\n",
    "5. 모델 학습 및 예측 - trainset 을 가지고 모델을 학습시킨 후, testset 을 가지고 prediction합니다.\n",
    "6. 모델 평가 - 예측 성능ㅇ이 원하는 수준인지 판단합니다. 풀려는 문제에 따라 모델을 평가하는 방법도 달라집니다. 학습된 모델이 어떤 것을 학습하였는 지 확인해봅니다.\n",
    "\n",
    "#### 1. Dataset 확인\n",
    "-  파이썬에서 테이블화 된 데이터를 다루는 데 가장 최적화되어 있으며, 많이 쓰이는 라이브러리는 pandas입니다.\n",
    "-  우리는 pandas 를 사용하여 데이터셋의 간단한 통계적 분석부터, 복잡한 처리들을 간단한 메소드를 사용하여 해낼 수 있습니다.\n",
    "-  파이썬으로 데이터분석을 한다고 하면 반드시 능숙해져야 할 라이브러리이니, 여러 커널들을 공부하시면서 사용법에 익숙해지도록 반복 또 반복하시길 권장합니다.\n",
    "-  캐글에서 데이터셋은 보통 train, testset으로 나뉘어 있습니다."
   ]
  },
  {
   "cell_type": "code",
   "execution_count": 3,
   "id": "fe5e3c39",
   "metadata": {
    "execution": {
     "iopub.execute_input": "2025-04-13T06:06:51.488450Z",
     "iopub.status.busy": "2025-04-13T06:06:51.487411Z",
     "iopub.status.idle": "2025-04-13T06:06:51.527822Z",
     "shell.execute_reply": "2025-04-13T06:06:51.526200Z"
    },
    "papermill": {
     "duration": 0.047741,
     "end_time": "2025-04-13T06:06:51.529666",
     "exception": false,
     "start_time": "2025-04-13T06:06:51.481925",
     "status": "completed"
    },
    "tags": []
   },
   "outputs": [],
   "source": [
    "df_train = pd.read_csv('/kaggle/input/titanic/train.csv')\n",
    "df_test = pd.read_csv('/kaggle/input/titanic/test.csv')\n",
    "df_submission = pd.read_csv('/kaggle/input/titanic/gender_submission.csv')"
   ]
  },
  {
   "cell_type": "code",
   "execution_count": 4,
   "id": "128580af",
   "metadata": {
    "execution": {
     "iopub.execute_input": "2025-04-13T06:06:51.540515Z",
     "iopub.status.busy": "2025-04-13T06:06:51.540213Z",
     "iopub.status.idle": "2025-04-13T06:06:51.573209Z",
     "shell.execute_reply": "2025-04-13T06:06:51.571893Z"
    },
    "papermill": {
     "duration": 0.040574,
     "end_time": "2025-04-13T06:06:51.575093",
     "exception": false,
     "start_time": "2025-04-13T06:06:51.534519",
     "status": "completed"
    },
    "tags": []
   },
   "outputs": [
    {
     "data": {
      "text/html": [
       "<div>\n",
       "<style scoped>\n",
       "    .dataframe tbody tr th:only-of-type {\n",
       "        vertical-align: middle;\n",
       "    }\n",
       "\n",
       "    .dataframe tbody tr th {\n",
       "        vertical-align: top;\n",
       "    }\n",
       "\n",
       "    .dataframe thead th {\n",
       "        text-align: right;\n",
       "    }\n",
       "</style>\n",
       "<table border=\"1\" class=\"dataframe\">\n",
       "  <thead>\n",
       "    <tr style=\"text-align: right;\">\n",
       "      <th></th>\n",
       "      <th>PassengerId</th>\n",
       "      <th>Survived</th>\n",
       "      <th>Pclass</th>\n",
       "      <th>Name</th>\n",
       "      <th>Sex</th>\n",
       "      <th>Age</th>\n",
       "      <th>SibSp</th>\n",
       "      <th>Parch</th>\n",
       "      <th>Ticket</th>\n",
       "      <th>Fare</th>\n",
       "      <th>Cabin</th>\n",
       "      <th>Embarked</th>\n",
       "    </tr>\n",
       "  </thead>\n",
       "  <tbody>\n",
       "    <tr>\n",
       "      <th>0</th>\n",
       "      <td>1</td>\n",
       "      <td>0</td>\n",
       "      <td>3</td>\n",
       "      <td>Braund, Mr. Owen Harris</td>\n",
       "      <td>male</td>\n",
       "      <td>22.0</td>\n",
       "      <td>1</td>\n",
       "      <td>0</td>\n",
       "      <td>A/5 21171</td>\n",
       "      <td>7.2500</td>\n",
       "      <td>NaN</td>\n",
       "      <td>S</td>\n",
       "    </tr>\n",
       "    <tr>\n",
       "      <th>1</th>\n",
       "      <td>2</td>\n",
       "      <td>1</td>\n",
       "      <td>1</td>\n",
       "      <td>Cumings, Mrs. John Bradley (Florence Briggs Th...</td>\n",
       "      <td>female</td>\n",
       "      <td>38.0</td>\n",
       "      <td>1</td>\n",
       "      <td>0</td>\n",
       "      <td>PC 17599</td>\n",
       "      <td>71.2833</td>\n",
       "      <td>C85</td>\n",
       "      <td>C</td>\n",
       "    </tr>\n",
       "    <tr>\n",
       "      <th>2</th>\n",
       "      <td>3</td>\n",
       "      <td>1</td>\n",
       "      <td>3</td>\n",
       "      <td>Heikkinen, Miss. Laina</td>\n",
       "      <td>female</td>\n",
       "      <td>26.0</td>\n",
       "      <td>0</td>\n",
       "      <td>0</td>\n",
       "      <td>STON/O2. 3101282</td>\n",
       "      <td>7.9250</td>\n",
       "      <td>NaN</td>\n",
       "      <td>S</td>\n",
       "    </tr>\n",
       "    <tr>\n",
       "      <th>3</th>\n",
       "      <td>4</td>\n",
       "      <td>1</td>\n",
       "      <td>1</td>\n",
       "      <td>Futrelle, Mrs. Jacques Heath (Lily May Peel)</td>\n",
       "      <td>female</td>\n",
       "      <td>35.0</td>\n",
       "      <td>1</td>\n",
       "      <td>0</td>\n",
       "      <td>113803</td>\n",
       "      <td>53.1000</td>\n",
       "      <td>C123</td>\n",
       "      <td>S</td>\n",
       "    </tr>\n",
       "    <tr>\n",
       "      <th>4</th>\n",
       "      <td>5</td>\n",
       "      <td>0</td>\n",
       "      <td>3</td>\n",
       "      <td>Allen, Mr. William Henry</td>\n",
       "      <td>male</td>\n",
       "      <td>35.0</td>\n",
       "      <td>0</td>\n",
       "      <td>0</td>\n",
       "      <td>373450</td>\n",
       "      <td>8.0500</td>\n",
       "      <td>NaN</td>\n",
       "      <td>S</td>\n",
       "    </tr>\n",
       "  </tbody>\n",
       "</table>\n",
       "</div>"
      ],
      "text/plain": [
       "   PassengerId  Survived  Pclass  \\\n",
       "0            1         0       3   \n",
       "1            2         1       1   \n",
       "2            3         1       3   \n",
       "3            4         1       1   \n",
       "4            5         0       3   \n",
       "\n",
       "                                                Name     Sex   Age  SibSp  \\\n",
       "0                            Braund, Mr. Owen Harris    male  22.0      1   \n",
       "1  Cumings, Mrs. John Bradley (Florence Briggs Th...  female  38.0      1   \n",
       "2                             Heikkinen, Miss. Laina  female  26.0      0   \n",
       "3       Futrelle, Mrs. Jacques Heath (Lily May Peel)  female  35.0      1   \n",
       "4                           Allen, Mr. William Henry    male  35.0      0   \n",
       "\n",
       "   Parch            Ticket     Fare Cabin Embarked  \n",
       "0      0         A/5 21171   7.2500   NaN        S  \n",
       "1      0          PC 17599  71.2833   C85        C  \n",
       "2      0  STON/O2. 3101282   7.9250   NaN        S  \n",
       "3      0            113803  53.1000  C123        S  \n",
       "4      0            373450   8.0500   NaN        S  "
      ]
     },
     "execution_count": 4,
     "metadata": {},
     "output_type": "execute_result"
    }
   ],
   "source": [
    "df_train.head()"
   ]
  },
  {
   "cell_type": "code",
   "execution_count": 5,
   "id": "bc7130e2",
   "metadata": {
    "execution": {
     "iopub.execute_input": "2025-04-13T06:06:51.585997Z",
     "iopub.status.busy": "2025-04-13T06:06:51.585455Z",
     "iopub.status.idle": "2025-04-13T06:06:51.602350Z",
     "shell.execute_reply": "2025-04-13T06:06:51.600912Z"
    },
    "papermill": {
     "duration": 0.024561,
     "end_time": "2025-04-13T06:06:51.604469",
     "exception": false,
     "start_time": "2025-04-13T06:06:51.579908",
     "status": "completed"
    },
    "tags": []
   },
   "outputs": [
    {
     "data": {
      "text/html": [
       "<div>\n",
       "<style scoped>\n",
       "    .dataframe tbody tr th:only-of-type {\n",
       "        vertical-align: middle;\n",
       "    }\n",
       "\n",
       "    .dataframe tbody tr th {\n",
       "        vertical-align: top;\n",
       "    }\n",
       "\n",
       "    .dataframe thead th {\n",
       "        text-align: right;\n",
       "    }\n",
       "</style>\n",
       "<table border=\"1\" class=\"dataframe\">\n",
       "  <thead>\n",
       "    <tr style=\"text-align: right;\">\n",
       "      <th></th>\n",
       "      <th>PassengerId</th>\n",
       "      <th>Pclass</th>\n",
       "      <th>Name</th>\n",
       "      <th>Sex</th>\n",
       "      <th>Age</th>\n",
       "      <th>SibSp</th>\n",
       "      <th>Parch</th>\n",
       "      <th>Ticket</th>\n",
       "      <th>Fare</th>\n",
       "      <th>Cabin</th>\n",
       "      <th>Embarked</th>\n",
       "    </tr>\n",
       "  </thead>\n",
       "  <tbody>\n",
       "    <tr>\n",
       "      <th>0</th>\n",
       "      <td>892</td>\n",
       "      <td>3</td>\n",
       "      <td>Kelly, Mr. James</td>\n",
       "      <td>male</td>\n",
       "      <td>34.5</td>\n",
       "      <td>0</td>\n",
       "      <td>0</td>\n",
       "      <td>330911</td>\n",
       "      <td>7.8292</td>\n",
       "      <td>NaN</td>\n",
       "      <td>Q</td>\n",
       "    </tr>\n",
       "    <tr>\n",
       "      <th>1</th>\n",
       "      <td>893</td>\n",
       "      <td>3</td>\n",
       "      <td>Wilkes, Mrs. James (Ellen Needs)</td>\n",
       "      <td>female</td>\n",
       "      <td>47.0</td>\n",
       "      <td>1</td>\n",
       "      <td>0</td>\n",
       "      <td>363272</td>\n",
       "      <td>7.0000</td>\n",
       "      <td>NaN</td>\n",
       "      <td>S</td>\n",
       "    </tr>\n",
       "    <tr>\n",
       "      <th>2</th>\n",
       "      <td>894</td>\n",
       "      <td>2</td>\n",
       "      <td>Myles, Mr. Thomas Francis</td>\n",
       "      <td>male</td>\n",
       "      <td>62.0</td>\n",
       "      <td>0</td>\n",
       "      <td>0</td>\n",
       "      <td>240276</td>\n",
       "      <td>9.6875</td>\n",
       "      <td>NaN</td>\n",
       "      <td>Q</td>\n",
       "    </tr>\n",
       "    <tr>\n",
       "      <th>3</th>\n",
       "      <td>895</td>\n",
       "      <td>3</td>\n",
       "      <td>Wirz, Mr. Albert</td>\n",
       "      <td>male</td>\n",
       "      <td>27.0</td>\n",
       "      <td>0</td>\n",
       "      <td>0</td>\n",
       "      <td>315154</td>\n",
       "      <td>8.6625</td>\n",
       "      <td>NaN</td>\n",
       "      <td>S</td>\n",
       "    </tr>\n",
       "    <tr>\n",
       "      <th>4</th>\n",
       "      <td>896</td>\n",
       "      <td>3</td>\n",
       "      <td>Hirvonen, Mrs. Alexander (Helga E Lindqvist)</td>\n",
       "      <td>female</td>\n",
       "      <td>22.0</td>\n",
       "      <td>1</td>\n",
       "      <td>1</td>\n",
       "      <td>3101298</td>\n",
       "      <td>12.2875</td>\n",
       "      <td>NaN</td>\n",
       "      <td>S</td>\n",
       "    </tr>\n",
       "  </tbody>\n",
       "</table>\n",
       "</div>"
      ],
      "text/plain": [
       "   PassengerId  Pclass                                          Name     Sex  \\\n",
       "0          892       3                              Kelly, Mr. James    male   \n",
       "1          893       3              Wilkes, Mrs. James (Ellen Needs)  female   \n",
       "2          894       2                     Myles, Mr. Thomas Francis    male   \n",
       "3          895       3                              Wirz, Mr. Albert    male   \n",
       "4          896       3  Hirvonen, Mrs. Alexander (Helga E Lindqvist)  female   \n",
       "\n",
       "    Age  SibSp  Parch   Ticket     Fare Cabin Embarked  \n",
       "0  34.5      0      0   330911   7.8292   NaN        Q  \n",
       "1  47.0      1      0   363272   7.0000   NaN        S  \n",
       "2  62.0      0      0   240276   9.6875   NaN        Q  \n",
       "3  27.0      0      0   315154   8.6625   NaN        S  \n",
       "4  22.0      1      1  3101298  12.2875   NaN        S  "
      ]
     },
     "execution_count": 5,
     "metadata": {},
     "output_type": "execute_result"
    }
   ],
   "source": [
    "df_test.head()"
   ]
  },
  {
   "cell_type": "code",
   "execution_count": 6,
   "id": "b5fe9b04",
   "metadata": {
    "execution": {
     "iopub.execute_input": "2025-04-13T06:06:51.615432Z",
     "iopub.status.busy": "2025-04-13T06:06:51.615159Z",
     "iopub.status.idle": "2025-04-13T06:06:51.624609Z",
     "shell.execute_reply": "2025-04-13T06:06:51.622858Z"
    },
    "papermill": {
     "duration": 0.017072,
     "end_time": "2025-04-13T06:06:51.626664",
     "exception": false,
     "start_time": "2025-04-13T06:06:51.609592",
     "status": "completed"
    },
    "tags": []
   },
   "outputs": [
    {
     "data": {
      "text/html": [
       "<div>\n",
       "<style scoped>\n",
       "    .dataframe tbody tr th:only-of-type {\n",
       "        vertical-align: middle;\n",
       "    }\n",
       "\n",
       "    .dataframe tbody tr th {\n",
       "        vertical-align: top;\n",
       "    }\n",
       "\n",
       "    .dataframe thead th {\n",
       "        text-align: right;\n",
       "    }\n",
       "</style>\n",
       "<table border=\"1\" class=\"dataframe\">\n",
       "  <thead>\n",
       "    <tr style=\"text-align: right;\">\n",
       "      <th></th>\n",
       "      <th>PassengerId</th>\n",
       "      <th>Survived</th>\n",
       "    </tr>\n",
       "  </thead>\n",
       "  <tbody>\n",
       "    <tr>\n",
       "      <th>0</th>\n",
       "      <td>892</td>\n",
       "      <td>0</td>\n",
       "    </tr>\n",
       "    <tr>\n",
       "      <th>1</th>\n",
       "      <td>893</td>\n",
       "      <td>1</td>\n",
       "    </tr>\n",
       "    <tr>\n",
       "      <th>2</th>\n",
       "      <td>894</td>\n",
       "      <td>0</td>\n",
       "    </tr>\n",
       "    <tr>\n",
       "      <th>3</th>\n",
       "      <td>895</td>\n",
       "      <td>0</td>\n",
       "    </tr>\n",
       "    <tr>\n",
       "      <th>4</th>\n",
       "      <td>896</td>\n",
       "      <td>1</td>\n",
       "    </tr>\n",
       "  </tbody>\n",
       "</table>\n",
       "</div>"
      ],
      "text/plain": [
       "   PassengerId  Survived\n",
       "0          892         0\n",
       "1          893         1\n",
       "2          894         0\n",
       "3          895         0\n",
       "4          896         1"
      ]
     },
     "execution_count": 6,
     "metadata": {},
     "output_type": "execute_result"
    }
   ],
   "source": [
    "df_submission.head()"
   ]
  },
  {
   "cell_type": "markdown",
   "id": "5fb934db",
   "metadata": {
    "papermill": {
     "duration": 0.004517,
     "end_time": "2025-04-13T06:06:51.636409",
     "exception": false,
     "start_time": "2025-04-13T06:06:51.631892",
     "status": "completed"
    },
    "tags": []
   },
   "source": [
    "- 우리가 다루는 문제에서 feature는 Pclass, Age, SibSp, Parch, Fare이며, 예측하려는 target label은 Survived입니다."
   ]
  },
  {
   "cell_type": "markdown",
   "id": "cef00e10",
   "metadata": {
    "papermill": {
     "duration": 0.004383,
     "end_time": "2025-04-13T06:06:51.645549",
     "exception": false,
     "start_time": "2025-04-13T06:06:51.641166",
     "status": "completed"
    },
    "tags": []
   },
   "source": [
    "## 🧾 Titanic Dataset – Feature Summary\n",
    "\n",
    "|Feature   | Definition                  | Description                                                        | Type      |\n",
    "|-----------|-----------------------------|--------------------------------------------------------------------|-----------|\n",
    "|survival  | Survival                    | Target label – 1 = Survived, 0 = Did not survive                   | integer   |\n",
    "|Pclass    | Ticket class                | 1 = 1st, 2 = 2nd, 3 = 3rd (Categorical feature)                    | integer   |\n",
    "| sex       | Sex                         | Gender – male or female (Binary)                                   | string    |\n",
    "| Age       | Age                         | Passenger's age (Continuous)                                       | integer   |\n",
    "| sibSp     | # of siblings/spouses aboard| Number of siblings and spouses aboard                              | integer   |\n",
    "| parch     | # of parents/children aboard| Number of parents and children aboard                              | integer   |\n",
    "| ticket    | Ticket number               | Alphanumeric (string with letters and numbers)                     | string    |\n",
    "| fare      | Fare                        | Ticket price (Continuous)                                          | float     |\n",
    " cabin      |Cabin number         |  Cabin ID (often missing), Alphanumeric                             | string    |\n",
    " embarked  | Port of embarkation         | C = Cherbourg, Q = Queenstown, S = Southampton                     | string    |\n"
   ]
  },
  {
   "cell_type": "markdown",
   "id": "0e3f924f",
   "metadata": {
    "papermill": {
     "duration": 0.004467,
     "end_time": "2025-04-13T06:06:51.654965",
     "exception": false,
     "start_time": "2025-04-13T06:06:51.650498",
     "status": "completed"
    },
    "tags": []
   },
   "source": [
    "- pandas datafram에는 describe() 메소드가 있는데, 이를 쓰면 각 feature가 가진 통계치들을 반환해줍니다."
   ]
  },
  {
   "cell_type": "code",
   "execution_count": 7,
   "id": "aa148f52",
   "metadata": {
    "execution": {
     "iopub.execute_input": "2025-04-13T06:06:51.666212Z",
     "iopub.status.busy": "2025-04-13T06:06:51.665297Z",
     "iopub.status.idle": "2025-04-13T06:06:51.695890Z",
     "shell.execute_reply": "2025-04-13T06:06:51.694974Z"
    },
    "papermill": {
     "duration": 0.037753,
     "end_time": "2025-04-13T06:06:51.697466",
     "exception": false,
     "start_time": "2025-04-13T06:06:51.659713",
     "status": "completed"
    },
    "tags": []
   },
   "outputs": [
    {
     "data": {
      "text/html": [
       "<div>\n",
       "<style scoped>\n",
       "    .dataframe tbody tr th:only-of-type {\n",
       "        vertical-align: middle;\n",
       "    }\n",
       "\n",
       "    .dataframe tbody tr th {\n",
       "        vertical-align: top;\n",
       "    }\n",
       "\n",
       "    .dataframe thead th {\n",
       "        text-align: right;\n",
       "    }\n",
       "</style>\n",
       "<table border=\"1\" class=\"dataframe\">\n",
       "  <thead>\n",
       "    <tr style=\"text-align: right;\">\n",
       "      <th></th>\n",
       "      <th>PassengerId</th>\n",
       "      <th>Survived</th>\n",
       "      <th>Pclass</th>\n",
       "      <th>Age</th>\n",
       "      <th>SibSp</th>\n",
       "      <th>Parch</th>\n",
       "      <th>Fare</th>\n",
       "    </tr>\n",
       "  </thead>\n",
       "  <tbody>\n",
       "    <tr>\n",
       "      <th>count</th>\n",
       "      <td>891.000000</td>\n",
       "      <td>891.000000</td>\n",
       "      <td>891.000000</td>\n",
       "      <td>714.000000</td>\n",
       "      <td>891.000000</td>\n",
       "      <td>891.000000</td>\n",
       "      <td>891.000000</td>\n",
       "    </tr>\n",
       "    <tr>\n",
       "      <th>mean</th>\n",
       "      <td>446.000000</td>\n",
       "      <td>0.383838</td>\n",
       "      <td>2.308642</td>\n",
       "      <td>29.699118</td>\n",
       "      <td>0.523008</td>\n",
       "      <td>0.381594</td>\n",
       "      <td>32.204208</td>\n",
       "    </tr>\n",
       "    <tr>\n",
       "      <th>std</th>\n",
       "      <td>257.353842</td>\n",
       "      <td>0.486592</td>\n",
       "      <td>0.836071</td>\n",
       "      <td>14.526497</td>\n",
       "      <td>1.102743</td>\n",
       "      <td>0.806057</td>\n",
       "      <td>49.693429</td>\n",
       "    </tr>\n",
       "    <tr>\n",
       "      <th>min</th>\n",
       "      <td>1.000000</td>\n",
       "      <td>0.000000</td>\n",
       "      <td>1.000000</td>\n",
       "      <td>0.420000</td>\n",
       "      <td>0.000000</td>\n",
       "      <td>0.000000</td>\n",
       "      <td>0.000000</td>\n",
       "    </tr>\n",
       "    <tr>\n",
       "      <th>25%</th>\n",
       "      <td>223.500000</td>\n",
       "      <td>0.000000</td>\n",
       "      <td>2.000000</td>\n",
       "      <td>20.125000</td>\n",
       "      <td>0.000000</td>\n",
       "      <td>0.000000</td>\n",
       "      <td>7.910400</td>\n",
       "    </tr>\n",
       "    <tr>\n",
       "      <th>50%</th>\n",
       "      <td>446.000000</td>\n",
       "      <td>0.000000</td>\n",
       "      <td>3.000000</td>\n",
       "      <td>28.000000</td>\n",
       "      <td>0.000000</td>\n",
       "      <td>0.000000</td>\n",
       "      <td>14.454200</td>\n",
       "    </tr>\n",
       "    <tr>\n",
       "      <th>75%</th>\n",
       "      <td>668.500000</td>\n",
       "      <td>1.000000</td>\n",
       "      <td>3.000000</td>\n",
       "      <td>38.000000</td>\n",
       "      <td>1.000000</td>\n",
       "      <td>0.000000</td>\n",
       "      <td>31.000000</td>\n",
       "    </tr>\n",
       "    <tr>\n",
       "      <th>max</th>\n",
       "      <td>891.000000</td>\n",
       "      <td>1.000000</td>\n",
       "      <td>3.000000</td>\n",
       "      <td>80.000000</td>\n",
       "      <td>8.000000</td>\n",
       "      <td>6.000000</td>\n",
       "      <td>512.329200</td>\n",
       "    </tr>\n",
       "  </tbody>\n",
       "</table>\n",
       "</div>"
      ],
      "text/plain": [
       "       PassengerId    Survived      Pclass         Age       SibSp  \\\n",
       "count   891.000000  891.000000  891.000000  714.000000  891.000000   \n",
       "mean    446.000000    0.383838    2.308642   29.699118    0.523008   \n",
       "std     257.353842    0.486592    0.836071   14.526497    1.102743   \n",
       "min       1.000000    0.000000    1.000000    0.420000    0.000000   \n",
       "25%     223.500000    0.000000    2.000000   20.125000    0.000000   \n",
       "50%     446.000000    0.000000    3.000000   28.000000    0.000000   \n",
       "75%     668.500000    1.000000    3.000000   38.000000    1.000000   \n",
       "max     891.000000    1.000000    3.000000   80.000000    8.000000   \n",
       "\n",
       "            Parch        Fare  \n",
       "count  891.000000  891.000000  \n",
       "mean     0.381594   32.204208  \n",
       "std      0.806057   49.693429  \n",
       "min      0.000000    0.000000  \n",
       "25%      0.000000    7.910400  \n",
       "50%      0.000000   14.454200  \n",
       "75%      0.000000   31.000000  \n",
       "max      6.000000  512.329200  "
      ]
     },
     "execution_count": 7,
     "metadata": {},
     "output_type": "execute_result"
    }
   ],
   "source": [
    "df_train.describe()"
   ]
  },
  {
   "cell_type": "code",
   "execution_count": 8,
   "id": "827b94e0",
   "metadata": {
    "execution": {
     "iopub.execute_input": "2025-04-13T06:06:51.709249Z",
     "iopub.status.busy": "2025-04-13T06:06:51.708958Z",
     "iopub.status.idle": "2025-04-13T06:06:51.733977Z",
     "shell.execute_reply": "2025-04-13T06:06:51.733051Z"
    },
    "papermill": {
     "duration": 0.032977,
     "end_time": "2025-04-13T06:06:51.735585",
     "exception": false,
     "start_time": "2025-04-13T06:06:51.702608",
     "status": "completed"
    },
    "tags": []
   },
   "outputs": [
    {
     "data": {
      "text/html": [
       "<div>\n",
       "<style scoped>\n",
       "    .dataframe tbody tr th:only-of-type {\n",
       "        vertical-align: middle;\n",
       "    }\n",
       "\n",
       "    .dataframe tbody tr th {\n",
       "        vertical-align: top;\n",
       "    }\n",
       "\n",
       "    .dataframe thead th {\n",
       "        text-align: right;\n",
       "    }\n",
       "</style>\n",
       "<table border=\"1\" class=\"dataframe\">\n",
       "  <thead>\n",
       "    <tr style=\"text-align: right;\">\n",
       "      <th></th>\n",
       "      <th>PassengerId</th>\n",
       "      <th>Pclass</th>\n",
       "      <th>Age</th>\n",
       "      <th>SibSp</th>\n",
       "      <th>Parch</th>\n",
       "      <th>Fare</th>\n",
       "    </tr>\n",
       "  </thead>\n",
       "  <tbody>\n",
       "    <tr>\n",
       "      <th>count</th>\n",
       "      <td>418.000000</td>\n",
       "      <td>418.000000</td>\n",
       "      <td>332.000000</td>\n",
       "      <td>418.000000</td>\n",
       "      <td>418.000000</td>\n",
       "      <td>417.000000</td>\n",
       "    </tr>\n",
       "    <tr>\n",
       "      <th>mean</th>\n",
       "      <td>1100.500000</td>\n",
       "      <td>2.265550</td>\n",
       "      <td>30.272590</td>\n",
       "      <td>0.447368</td>\n",
       "      <td>0.392344</td>\n",
       "      <td>35.627188</td>\n",
       "    </tr>\n",
       "    <tr>\n",
       "      <th>std</th>\n",
       "      <td>120.810458</td>\n",
       "      <td>0.841838</td>\n",
       "      <td>14.181209</td>\n",
       "      <td>0.896760</td>\n",
       "      <td>0.981429</td>\n",
       "      <td>55.907576</td>\n",
       "    </tr>\n",
       "    <tr>\n",
       "      <th>min</th>\n",
       "      <td>892.000000</td>\n",
       "      <td>1.000000</td>\n",
       "      <td>0.170000</td>\n",
       "      <td>0.000000</td>\n",
       "      <td>0.000000</td>\n",
       "      <td>0.000000</td>\n",
       "    </tr>\n",
       "    <tr>\n",
       "      <th>25%</th>\n",
       "      <td>996.250000</td>\n",
       "      <td>1.000000</td>\n",
       "      <td>21.000000</td>\n",
       "      <td>0.000000</td>\n",
       "      <td>0.000000</td>\n",
       "      <td>7.895800</td>\n",
       "    </tr>\n",
       "    <tr>\n",
       "      <th>50%</th>\n",
       "      <td>1100.500000</td>\n",
       "      <td>3.000000</td>\n",
       "      <td>27.000000</td>\n",
       "      <td>0.000000</td>\n",
       "      <td>0.000000</td>\n",
       "      <td>14.454200</td>\n",
       "    </tr>\n",
       "    <tr>\n",
       "      <th>75%</th>\n",
       "      <td>1204.750000</td>\n",
       "      <td>3.000000</td>\n",
       "      <td>39.000000</td>\n",
       "      <td>1.000000</td>\n",
       "      <td>0.000000</td>\n",
       "      <td>31.500000</td>\n",
       "    </tr>\n",
       "    <tr>\n",
       "      <th>max</th>\n",
       "      <td>1309.000000</td>\n",
       "      <td>3.000000</td>\n",
       "      <td>76.000000</td>\n",
       "      <td>8.000000</td>\n",
       "      <td>9.000000</td>\n",
       "      <td>512.329200</td>\n",
       "    </tr>\n",
       "  </tbody>\n",
       "</table>\n",
       "</div>"
      ],
      "text/plain": [
       "       PassengerId      Pclass         Age       SibSp       Parch        Fare\n",
       "count   418.000000  418.000000  332.000000  418.000000  418.000000  417.000000\n",
       "mean   1100.500000    2.265550   30.272590    0.447368    0.392344   35.627188\n",
       "std     120.810458    0.841838   14.181209    0.896760    0.981429   55.907576\n",
       "min     892.000000    1.000000    0.170000    0.000000    0.000000    0.000000\n",
       "25%     996.250000    1.000000   21.000000    0.000000    0.000000    7.895800\n",
       "50%    1100.500000    3.000000   27.000000    0.000000    0.000000   14.454200\n",
       "75%    1204.750000    3.000000   39.000000    1.000000    0.000000   31.500000\n",
       "max    1309.000000    3.000000   76.000000    8.000000    9.000000  512.329200"
      ]
     },
     "execution_count": 8,
     "metadata": {},
     "output_type": "execute_result"
    }
   ],
   "source": [
    "df_test.describe()"
   ]
  },
  {
   "cell_type": "markdown",
   "id": "8be8de7e",
   "metadata": {
    "papermill": {
     "duration": 0.004826,
     "end_time": "2025-04-13T06:06:51.746035",
     "exception": false,
     "start_time": "2025-04-13T06:06:51.741209",
     "status": "completed"
    },
    "tags": []
   },
   "source": [
    "- 테이블에서 보다시키, PassengerID숫자와 다른, 그러니까 null data가 존재하는 열(feature)가 있는 것 같습니다.\n",
    "- 이를 좀 더 보기 편하도록 그래프로 시각화해서 살펴봅시다."
   ]
  },
  {
   "cell_type": "markdown",
   "id": "ddd3b518",
   "metadata": {
    "papermill": {
     "duration": 0.004788,
     "end_time": "2025-04-13T06:06:51.755881",
     "exception": false,
     "start_time": "2025-04-13T06:06:51.751093",
     "status": "completed"
    },
    "tags": []
   },
   "source": [
    "### 1.1 Null data check"
   ]
  },
  {
   "cell_type": "code",
   "execution_count": 9,
   "id": "9d293f21",
   "metadata": {
    "execution": {
     "iopub.execute_input": "2025-04-13T06:06:51.767655Z",
     "iopub.status.busy": "2025-04-13T06:06:51.767359Z",
     "iopub.status.idle": "2025-04-13T06:06:51.775331Z",
     "shell.execute_reply": "2025-04-13T06:06:51.774334Z"
    },
    "papermill": {
     "duration": 0.016267,
     "end_time": "2025-04-13T06:06:51.777106",
     "exception": false,
     "start_time": "2025-04-13T06:06:51.760839",
     "status": "completed"
    },
    "tags": []
   },
   "outputs": [
    {
     "name": "stdout",
     "output_type": "stream",
     "text": [
      "column: PassengerId\t Percent of NaN value: 0.00%\n",
      "column:   Survived\t Percent of NaN value: 0.00%\n",
      "column:     Pclass\t Percent of NaN value: 0.00%\n",
      "column:       Name\t Percent of NaN value: 0.00%\n",
      "column:        Sex\t Percent of NaN value: 0.00%\n",
      "column:        Age\t Percent of NaN value: 19.87%\n",
      "column:      SibSp\t Percent of NaN value: 0.00%\n",
      "column:      Parch\t Percent of NaN value: 0.00%\n",
      "column:     Ticket\t Percent of NaN value: 0.00%\n",
      "column:       Fare\t Percent of NaN value: 0.00%\n",
      "column:      Cabin\t Percent of NaN value: 77.10%\n",
      "column:   Embarked\t Percent of NaN value: 0.22%\n"
     ]
    }
   ],
   "source": [
    "for col in df_train.columns:\n",
    "        msg = 'column: {:>10}\\t Percent of NaN value: {:.2f}%'.format(col, 100* (df_train[col].isnull().sum() / df_train[col].shape[0]))\n",
    "        print(msg)"
   ]
  },
  {
   "cell_type": "markdown",
   "id": "e8fcff44",
   "metadata": {
    "papermill": {
     "duration": 0.004949,
     "end_time": "2025-04-13T06:06:51.787382",
     "exception": false,
     "start_time": "2025-04-13T06:06:51.782433",
     "status": "completed"
    },
    "tags": []
   },
   "source": [
    "|line          |Menaing\n",
    "|------------|----------------\n",
    "|for col in df_train.columns:        | Loop through all column names in the Datafrom 'df_train'|\n",
    "|df_train[col].isnull().sum()        | Count how many missing (NaN) values are in that column|\n",
    "|df_train.shape[0]                   | Total number of rows in the DataFrame |\n",
    "|100 * (...) | Calculate the **percentage** of missing values\n",
    "|'column: {:>10}\\t ercent of NaN value: {:.2f}%' | Format the output with column name and percentage neatly aligned|"
   ]
  },
  {
   "cell_type": "code",
   "execution_count": 10,
   "id": "4becc822",
   "metadata": {
    "execution": {
     "iopub.execute_input": "2025-04-13T06:06:51.800442Z",
     "iopub.status.busy": "2025-04-13T06:06:51.800113Z",
     "iopub.status.idle": "2025-04-13T06:06:51.807675Z",
     "shell.execute_reply": "2025-04-13T06:06:51.806538Z"
    },
    "papermill": {
     "duration": 0.016701,
     "end_time": "2025-04-13T06:06:51.809263",
     "exception": false,
     "start_time": "2025-04-13T06:06:51.792562",
     "status": "completed"
    },
    "tags": []
   },
   "outputs": [
    {
     "name": "stdout",
     "output_type": "stream",
     "text": [
      "column: PassengerId\t Percent of NaN value 0.00%\n",
      "column:     Pclass\t Percent of NaN value 0.00%\n",
      "column:       Name\t Percent of NaN value 0.00%\n",
      "column:        Sex\t Percent of NaN value 0.00%\n",
      "column:        Age\t Percent of NaN value 20.57%\n",
      "column:      SibSp\t Percent of NaN value 0.00%\n",
      "column:      Parch\t Percent of NaN value 0.00%\n",
      "column:     Ticket\t Percent of NaN value 0.00%\n",
      "column:       Fare\t Percent of NaN value 0.24%\n",
      "column:      Cabin\t Percent of NaN value 78.23%\n",
      "column:   Embarked\t Percent of NaN value 0.00%\n"
     ]
    }
   ],
   "source": [
    "for col in df_test.columns:\n",
    "    msg = 'column: {:>10}\\t Percent of NaN value {:.2f}%'.format (col, 100*(df_test[col].isnull().sum()/df_test[col].shape[0]))\n",
    "    print(msg)"
   ]
  },
  {
   "cell_type": "markdown",
   "id": "eda9089a",
   "metadata": {
    "papermill": {
     "duration": 0.005885,
     "end_time": "2025-04-13T06:06:51.820652",
     "exception": false,
     "start_time": "2025-04-13T06:06:51.814767",
     "status": "completed"
    },
    "tags": []
   },
   "source": [
    "- Train, Test est에서 Age(둘다 약 20%), Cabin(둘다 약 80%), (Enbarked(Train만 0.22%) null data 존재하는 것을 볼 수 있습니다.\n",
    "- MANO 라는 라이브러리를 사용하면 null datad의 존재를 더 쉽게 볼 수 있습니다."
   ]
  },
  {
   "cell_type": "code",
   "execution_count": 11,
   "id": "e8734d93",
   "metadata": {
    "execution": {
     "iopub.execute_input": "2025-04-13T06:06:51.832433Z",
     "iopub.status.busy": "2025-04-13T06:06:51.832086Z",
     "iopub.status.idle": "2025-04-13T06:06:52.344570Z",
     "shell.execute_reply": "2025-04-13T06:06:52.343696Z"
    },
    "papermill": {
     "duration": 0.520636,
     "end_time": "2025-04-13T06:06:52.346498",
     "exception": false,
     "start_time": "2025-04-13T06:06:51.825862",
     "status": "completed"
    },
    "tags": []
   },
   "outputs": [
    {
     "data": {
      "text/plain": [
       "<Axes: >"
      ]
     },
     "execution_count": 11,
     "metadata": {},
     "output_type": "execute_result"
    },
    {
     "data": {
      "image/png": "[encoded data removed]",
      "text/plain": [
       "<Figure size 2000x500 with 2 Axes>"
      ]
     },
     "metadata": {},
     "output_type": "display_data"
    }
   ],
   "source": [
    "import missingno as msno\n",
    "\n",
    "msno.matrix(df=df_train.iloc[:,:], fontsize=10, figsize=(20,5), color=(0.1, 0.1, 0.9))\n"
   ]
  },
  {
   "cell_type": "markdown",
   "id": "6ad42f9b",
   "metadata": {
    "papermill": {
     "duration": 0.006177,
     "end_time": "2025-04-13T06:06:52.359783",
     "exception": false,
     "start_time": "2025-04-13T06:06:52.353606",
     "status": "completed"
    },
    "tags": []
   },
   "source": [
    "|구성요소 | 설명|\n",
    "|--------|--------------|\n",
    "|missingno.matrix() | NaN 값을 세로 막대 시각화로 보여줌|\n",
    "|df=df_train | Titanic 데이터프레임 사용|\n",
    "|figsize=(8,8) | 그림 사이즈 지정|\n",
    "|color=(0.8, 0.5, 0.2) |시각화 색상 지정 (RGB 값)|"
   ]
  },
  {
   "cell_type": "code",
   "execution_count": 12,
   "id": "d42b4be6",
   "metadata": {
    "execution": {
     "iopub.execute_input": "2025-04-13T06:06:52.374225Z",
     "iopub.status.busy": "2025-04-13T06:06:52.373805Z",
     "iopub.status.idle": "2025-04-13T06:06:53.269196Z",
     "shell.execute_reply": "2025-04-13T06:06:53.268242Z"
    },
    "papermill": {
     "duration": 0.904666,
     "end_time": "2025-04-13T06:06:53.270768",
     "exception": false,
     "start_time": "2025-04-13T06:06:52.366102",
     "status": "completed"
    },
    "tags": []
   },
   "outputs": [
    {
     "data": {
      "text/plain": [
       "<Axes: >"
      ]
     },
     "execution_count": 12,
     "metadata": {},
     "output_type": "execute_result"
    },
    {
     "data": {
      "image/png": "[encoded data removed]",
      "text/plain": [
       "<Figure size 1000x500 with 3 Axes>"
      ]
     },
     "metadata": {},
     "output_type": "display_data"
    }
   ],
   "source": [
    "msno.bar(df=df_train.iloc[:,:], figsize=(10,5),color=(0.5, 0.5, 0.5), fontsize=8)"
   ]
  },
  {
   "cell_type": "code",
   "execution_count": 13,
   "id": "0ca52501",
   "metadata": {
    "execution": {
     "iopub.execute_input": "2025-04-13T06:06:53.286259Z",
     "iopub.status.busy": "2025-04-13T06:06:53.285951Z",
     "iopub.status.idle": "2025-04-13T06:06:54.100758Z",
     "shell.execute_reply": "2025-04-13T06:06:54.099598Z"
    },
    "papermill": {
     "duration": 0.824868,
     "end_time": "2025-04-13T06:06:54.103061",
     "exception": false,
     "start_time": "2025-04-13T06:06:53.278193",
     "status": "completed"
    },
    "tags": []
   },
   "outputs": [
    {
     "data": {
      "text/plain": [
       "<Axes: >"
      ]
     },
     "execution_count": 13,
     "metadata": {},
     "output_type": "execute_result"
    },
    {
     "data": {
      "image/png": "[encoded data removed]",
      "text/plain": [
       "<Figure size 1000x500 with 3 Axes>"
      ]
     },
     "metadata": {},
     "output_type": "display_data"
    }
   ],
   "source": [
    "msno.bar(df=df_test.iloc[:,:], figsize=(10,5), color=(0.9, 0.5, 0.5))"
   ]
  },
  {
   "cell_type": "markdown",
   "id": "f34fb270",
   "metadata": {
    "papermill": {
     "duration": 0.008557,
     "end_time": "2025-04-13T06:06:54.120386",
     "exception": false,
     "start_time": "2025-04-13T06:06:54.111829",
     "status": "completed"
    },
    "tags": []
   },
   "source": [
    "# "
   ]
  }
 ],
 "metadata": {
  "kaggle": {
   "accelerator": "none",
   "dataSources": [
    {
     "databundleVersionId": 26502,
     "sourceId": 3136,
     "sourceType": "competition"
    }
   ],
   "dockerImageVersionId": 31012,
   "isGpuEnabled": false,
   "isInternetEnabled": false,
   "language": "python",
   "sourceType": "notebook"
  },
  "kernelspec": {
   "display_name": "Python 3",
   "language": "python",
   "name": "python3"
  },
  "language_info": {
   "codemirror_mode": {
    "name": "ipython",
    "version": 3
   },
   "file_extension": ".py",
   "mimetype": "text/x-python",
   "name": "python",
   "nbconvert_exporter": "python",
   "pygments_lexer": "ipython3",
   "version": "3.11.11"
  },
  "papermill": {
   "default_parameters": {},
   "duration": 12.801956,
   "end_time": "2025-04-13T06:06:54.850120",
   "environment_variables": {},
   "exception": null,
   "input_path": "__notebook__.ipynb",
   "output_path": "__notebook__.ipynb",
   "parameters": {},
   "start_time": "2025-04-13T06:06:42.048164",
   "version": "2.6.0"
  }
 },
 "nbformat": 4,
 "nbformat_minor": 5
}
