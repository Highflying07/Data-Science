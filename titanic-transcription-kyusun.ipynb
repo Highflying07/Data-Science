{
 "cells": [
  {
   "cell_type": "code",
   "execution_count": 1,
   "id": "1fdca559",
   "metadata": {
    "_cell_guid": "b1076dfc-b9ad-4769-8c92-a6c4dae69d19",
    "_uuid": "8f2839f25d086af736a60e9eeb907d3b93b6e0e5",
    "execution": {
     "iopub.execute_input": "2025-04-13T04:26:40.989555Z",
     "iopub.status.busy": "2025-04-13T04:26:40.989136Z",
     "iopub.status.idle": "2025-04-13T04:26:42.947364Z",
     "shell.execute_reply": "2025-04-13T04:26:42.946223Z"
    },
    "papermill": {
     "duration": 1.963749,
     "end_time": "2025-04-13T04:26:42.948955",
     "exception": false,
     "start_time": "2025-04-13T04:26:40.985206",
     "status": "completed"
    },
    "tags": []
   },
   "outputs": [
    {
     "name": "stdout",
     "output_type": "stream",
     "text": [
      "/kaggle/input/titanic/train.csv\n",
      "/kaggle/input/titanic/test.csv\n",
      "/kaggle/input/titanic/gender_submission.csv\n"
     ]
    }
   ],
   "source": [
    "# This Python 3 environment comes with many helpful analytics libraries installed\n",
    "# It is defined by the kaggle/python Docker image: https://github.com/kaggle/docker-python\n",
    "# For example, here's several helpful packages to load\n",
    "\n",
    "import numpy as np # linear algebra\n",
    "import pandas as pd # data processing, CSV file I/O (e.g. pd.read_csv)\n",
    "\n",
    "# Input data files are available in the read-only \"../input/\" directory\n",
    "# For example, running this (by clicking run or pressing Shift+Enter) will list all files under the input directory\n",
    "\n",
    "import os\n",
    "for dirname, _, filenames in os.walk('/kaggle/input'):\n",
    "    for filename in filenames:\n",
    "        print(os.path.join(dirname, filename))\n",
    "\n",
    "# You can write up to 20GB to the current directory (/kaggle/working/) that gets preserved as output when you create a version using \"Save & Run All\" \n",
    "# You can also write temporary files to /kaggle/temp/, but they won't be saved outside of the current session"
   ]
  },
  {
   "cell_type": "markdown",
   "id": "65eef25a",
   "metadata": {
    "papermill": {
     "duration": 0.001678,
     "end_time": "2025-04-13T04:26:42.952779",
     "exception": false,
     "start_time": "2025-04-13T04:26:42.951101",
     "status": "completed"
    },
    "tags": []
   },
   "source": [
    "TITANIC TRANSCRITPION\n",
    "\n",
    "DAY 1 필사 시작\n",
    "\n",
    "만약 데이터 사이언스, 머신러닝 또는 캐글에서 어떤것을 해야하는지 잘 모르는 NEWBEL이라면, 타이타닉으르 하시는게 가장 좋은 선택입니다.\n",
    "\n",
    "타이타닉은 아시다시피, 사상 최대 해난사고로 15000여명의 희생자가 생겼습니다.\n",
    "우리는 이 튜토리얼에서 타이타닉에 탑승한 사람들의 신상정보를 활용하여, 승선한 사람들의 생존여부를 예측하는 모델을 생성할 것입니다.\n",
    "\n",
    "본 튜토리얼에서는 여러 시각화 도구(matplotlib, seaborn, plotly), 데이터 분석 도구(panda, numpy), 머신러닝도구(sklearn)을 사용할 것입니다.\n",
    "\n",
    "본 튜토리얼은 캐글에 있는 여러 커널들을 차마조하여 만들었습니다. 본 튜토리얼을 공부하신 뒤에, 캐글 타이타닉 컴퍼티션에 존재하는 여러 다른 커널들을 더 공부하시면 됩니다.\n",
    "\n",
    "본 튜토리얼은 파이썬 문법에 어려움이없으셔야 수월할 것입니다. 여기서 사용하는 라이브러리들을 써 본 경험이 있다면 좋겠지만, 경험이 없다하더라도 한줈ㄱ 천천히 적어나가시면 충분히 하실 수 있습니다.\n",
    "\n",
    "\n"
   ]
  },
  {
   "cell_type": "code",
   "execution_count": 2,
   "id": "13a3ff3c",
   "metadata": {
    "execution": {
     "iopub.execute_input": "2025-04-13T04:26:42.957488Z",
     "iopub.status.busy": "2025-04-13T04:26:42.957030Z",
     "iopub.status.idle": "2025-04-13T04:26:44.954046Z",
     "shell.execute_reply": "2025-04-13T04:26:44.953071Z"
    },
    "papermill": {
     "duration": 2.00128,
     "end_time": "2025-04-13T04:26:44.955755",
     "exception": false,
     "start_time": "2025-04-13T04:26:42.954475",
     "status": "completed"
    },
    "tags": []
   },
   "outputs": [
    {
     "name": "stderr",
     "output_type": "stream",
     "text": [
      "/tmp/ipykernel_13/1435281183.py:6: MatplotlibDeprecationWarning: The seaborn styles shipped by Matplotlib are deprecated since 3.6, as they no longer correspond to the styles shipped by seaborn. However, they will remain available as 'seaborn-v0_8-<style>'. Alternatively, directly use the seaborn API instead.\n",
      "  plt.style.use('seaborn')\n"
     ]
    }
   ],
   "source": [
    "import numpy as np \n",
    "import pandas as pd\n",
    "import matplotlib.pyplot as plt\n",
    "import seaborn as sns\n",
    "\n",
    "plt.style.use('seaborn')\n",
    "sns.set_theme(style='darkgrid', font_scale=1.5) \n",
    "# 이 두줄은 본 필자가 항상 쓰는 방법입니다. \n",
    "# matplotlib의 기본 scheme말고 seaborn scheme을 세팅하고, \n",
    "# 일일이 graph의 font size를 지정할 필요 없이 seaborn의 font_scale을 사용하면 편합니다.\n",
    "\n",
    "#ignore warnings\n",
    "import warnings\n",
    "warnings.filterwarnings('ignore')\n",
    "\n",
    "%matplotlib inline\n",
    "\n"
   ]
  },
  {
   "cell_type": "code",
   "execution_count": 3,
   "id": "18a0d914",
   "metadata": {
    "execution": {
     "iopub.execute_input": "2025-04-13T04:26:44.960910Z",
     "iopub.status.busy": "2025-04-13T04:26:44.960415Z",
     "iopub.status.idle": "2025-04-13T04:26:45.077034Z",
     "shell.execute_reply": "2025-04-13T04:26:45.076119Z"
    },
    "papermill": {
     "duration": 0.120803,
     "end_time": "2025-04-13T04:26:45.078558",
     "exception": false,
     "start_time": "2025-04-13T04:26:44.957755",
     "status": "completed"
    },
    "tags": []
   },
   "outputs": [],
   "source": [
    "df_train = pd.read_csv('/kaggle/input/titanic/train.csv')\n",
    "# df_test = pd.read_csv('C:/Users/havqs/Downloads/titanic/test.csv')"
   ]
  }
 ],
 "metadata": {
  "kaggle": {
   "accelerator": "none",
   "dataSources": [
    {
     "databundleVersionId": 26502,
     "sourceId": 3136,
     "sourceType": "competition"
    }
   ],
   "dockerImageVersionId": 31012,
   "isGpuEnabled": false,
   "isInternetEnabled": false,
   "language": "python",
   "sourceType": "notebook"
  },
  "kernelspec": {
   "display_name": "Python 3",
   "language": "python",
   "name": "python3"
  },
  "language_info": {
   "codemirror_mode": {
    "name": "ipython",
    "version": 3
   },
   "file_extension": ".py",
   "mimetype": "text/x-python",
   "name": "python",
   "nbconvert_exporter": "python",
   "pygments_lexer": "ipython3",
   "version": "3.11.11"
  },
  "papermill": {
   "default_parameters": {},
   "duration": 9.970934,
   "end_time": "2025-04-13T04:26:45.801669",
   "environment_variables": {},
   "exception": null,
   "input_path": "__notebook__.ipynb",
   "output_path": "__notebook__.ipynb",
   "parameters": {},
   "start_time": "2025-04-13T04:26:35.830735",
   "version": "2.6.0"
  }
 },
 "nbformat": 4,
 "nbformat_minor": 5
}
